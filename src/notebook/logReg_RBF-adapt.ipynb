{
  "cells": [
    {
      "cell_type": "markdown",
      "metadata": {
        "id": "W37gzxc2Kc1r"
      },
      "source": [
        "## lightGBM(Reg) + BoW(tf-idf) + sudachi(C)"
      ]
    },
    {
      "cell_type": "code",
      "execution_count": 1,
      "metadata": {
        "colab": {
          "base_uri": "https://localhost:8080/",
          "height": 71
        },
        "id": "APZKoZwxJv1v",
        "outputId": "bdfced97-598c-40a0-db5b-7d5ce2325877"
      },
      "outputs": [
        {
          "data": {
            "application/vnd.google.colaboratory.intrinsic+json": {
              "type": "string"
            },
            "text/plain": [
              "'from sklearn.metrics import cohen_kappa_score\\n\\ty_true = [2, 0, 2, 2, 0, 1]\\n\\ty_pred = [0, 0, 2, 2, 0, 2]\\n\\tcohen_kappa_score(y_true, y_pred)\\n\\t# weights=\"quadratic\"でおk\\n\\t>>> 0.4285714285714286'"
            ]
          },
          "execution_count": 1,
          "metadata": {},
          "output_type": "execute_result"
        }
      ],
      "source": [
        "\"\"\"from sklearn.metrics import cohen_kappa_score\n",
        "\ty_true = [2, 0, 2, 2, 0, 1]\n",
        "\ty_pred = [0, 0, 2, 2, 0, 2]\n",
        "\tcohen_kappa_score(y_true, y_pred)\n",
        "\t# weights=\"quadratic\"でおk\n",
        "\t>>> 0.4285714285714286\"\"\""
      ]
    },
    {
      "cell_type": "code",
      "execution_count": 35,
      "metadata": {
        "id": "8E7-41LPKUbK"
      },
      "outputs": [],
      "source": [
        "# ライブラリの導入\n",
        "\n",
        "import matplotlib.pyplot as plt\n",
        "import numpy as np\n",
        "import pandas as pd\n",
        "from sklearn.svm import LinearSVC\n",
        "from sklearn.svm import SVC\n",
        "from sklearn.linear_model import LogisticRegression\n",
        "from sklearn.linear_model import Ridge\n",
        "from sklearn.preprocessing import StandardScaler\n",
        "from sklearn.model_selection import train_test_split\n",
        "\n",
        "from sklearn.metrics import cohen_kappa_score\n",
        "\n",
        "def adapt_labels(labels):\n",
        "  max_label = np.max(labels) # 2 or 4\n",
        "\n",
        "  if max_label == 2:\n",
        "    labels += 2\n",
        "  elif max_label == 4:\n",
        "    labels -= 2\n",
        "  else:\n",
        "    print('Exception error! please check with np.unique(labels).')\n",
        "  return labels"
      ]
    },
    {
      "cell_type": "code",
      "execution_count": 33,
      "metadata": {
        "colab": {
          "base_uri": "https://localhost:8080/"
        },
        "id": "MsNQ0AiAkkEo",
        "outputId": "7ced4812-aa61-4cfd-89cc-7739a78ff0e6"
      },
      "outputs": [
        {
          "name": "stdout",
          "output_type": "stream",
          "text": [
            "[0. 1. 2. 3. 4.]\n",
            "[-2. -1.  0.  1.  2.]\n"
          ]
        }
      ],
      "source": [
        "# u1 = np.unique(y_preds)\n",
        "# print(u1)\n",
        "# adapt_labels(y_preds)\n",
        "# u2 = np.unique(y_preds)\n",
        "# print(u2)"
      ]
    },
    {
      "cell_type": "code",
      "execution_count": 19,
      "metadata": {
        "colab": {
          "base_uri": "https://localhost:8080/"
        },
        "id": "kUlWc6n1i4oo",
        "outputId": "a327bb5a-43c6-4b8b-990c-2778059ceb0a"
      },
      "outputs": [
        {
          "name": "stdout",
          "output_type": "stream",
          "text": [
            "[-2. -1.  0.  1.  2.]\n",
            "[0. 1. 2. 3. 4.]\n"
          ]
        }
      ],
      "source": [
        "u1 = np.unique(y_preds)\n",
        "print(u1)\n",
        "adapt_labels(y_preds,reverse=False)\n",
        "u2 = np.unique(y_preds)\n",
        "print(u2)"
      ]
    },
    {
      "cell_type": "code",
      "execution_count": 3,
      "metadata": {
        "colab": {
          "base_uri": "https://localhost:8080/"
        },
        "id": "aCZ4vc0aKi7U",
        "outputId": "2b65a27b-df49-461c-e1b0-d1d378dce397"
      },
      "outputs": [
        {
          "name": "stdout",
          "output_type": "stream",
          "text": [
            "Mounted at /content/drive\n",
            "/content/drive/MyDrive/grad_comp\n"
          ]
        }
      ],
      "source": [
        "#ファイル\n",
        "from google.colab import drive\n",
        "drive.mount('/content/drive')\n",
        "%cd /content/drive/MyDrive/grad_comp"
      ]
    },
    {
      "cell_type": "markdown",
      "metadata": {
        "id": "yR-ilyOhYqf3"
      },
      "source": [
        "## load data"
      ]
    },
    {
      "cell_type": "code",
      "execution_count": 4,
      "metadata": {
        "id": "QFe589AeOKq-"
      },
      "outputs": [],
      "source": [
        "# preprocess path\n",
        "prepro = 'sudachi/C'\n",
        "n_features = 10000"
      ]
    },
    {
      "cell_type": "code",
      "execution_count": 5,
      "metadata": {
        "colab": {
          "base_uri": "https://localhost:8080/"
        },
        "id": "KVsde0swXSGh",
        "outputId": "4072b86a-b55c-4970-a0b7-7c0dedddd6ef"
      },
      "outputs": [
        {
          "name": "stdout",
          "output_type": "stream",
          "text": [
            "[0. 1. 2. 3. 4.]\n",
            "[3543 5593 9227 7760 3877]\n"
          ]
        }
      ],
      "source": [
        "# setup data\n",
        "\n",
        "f = open('preprocess/' + prepro + '/text.prep_train.txt', 'r')\n",
        "train_data = f.read()\n",
        "train_data = train_data.split('\\n')\n",
        "del train_data[30000]\n",
        "#x_train = np.zeros((30000, len(res)))\n",
        "\n",
        "f = open('preprocess/' + prepro + '/text.prep_test.txt', 'r')\n",
        "test_data = f.read()\n",
        "test_data = test_data.split('\\n')\n",
        "del test_data[2500]\n",
        "#x_test = np.zeros((2500, len(res)))\n",
        "\n",
        "f = open('preprocess/' + prepro + '/text.prep_dev.txt', 'r')\n",
        "dev_data = f.read()\n",
        "dev_data = dev_data.split('\\n')\n",
        "del dev_data[2500]\n",
        "#x_dev = np.zeros((2500, len(res)))\n",
        "\n",
        "# label\n",
        "y_train = np.loadtxt('/content/drive/MyDrive/grad_comp/data/label.train.txt')\n",
        "y_dev = np.loadtxt('/content/drive/MyDrive/grad_comp/data/label.dev.txt')\n",
        "y_train += 2\n",
        "y_dev += 2\n",
        "u, counts = np.unique(y_train, return_counts=True)\n",
        "print(u)\n",
        "print(counts)"
      ]
    },
    {
      "cell_type": "markdown",
      "metadata": {
        "id": "23ItKZkxjUb5"
      },
      "source": [
        "## TF-IDF"
      ]
    },
    {
      "cell_type": "code",
      "execution_count": 6,
      "metadata": {
        "id": "8kDxXS3ZiN_W"
      },
      "outputs": [],
      "source": [
        "from sklearn.feature_extraction.text import TfidfVectorizer\n",
        "vectorizer = TfidfVectorizer(max_features = n_features)\n",
        "X_train = vectorizer.fit_transform(train_data)\n",
        "X_dev = vectorizer.transform(dev_data)\n",
        "X_test = vectorizer.transform(test_data)"
      ]
    },
    {
      "cell_type": "code",
      "execution_count": 7,
      "metadata": {
        "colab": {
          "base_uri": "https://localhost:8080/"
        },
        "id": "boxzOUleixqy",
        "outputId": "2fc7f58e-f3fe-4406-b039-668d78477ba9"
      },
      "outputs": [
        {
          "data": {
            "text/plain": [
              "(30000, 10000)"
            ]
          },
          "execution_count": 7,
          "metadata": {},
          "output_type": "execute_result"
        }
      ],
      "source": [
        "X_train.shape"
      ]
    },
    {
      "cell_type": "markdown",
      "metadata": {
        "id": "DETFAKIhO17b"
      },
      "source": [
        "QWK = 0.041  C = 0.01\n",
        "QWK = 0.210  C = 0.1\n",
        "QWK = 0.334  C = 1\n",
        "QWK = 0.324  C = 10\n",
        "QWK = 0.290  C = 100\n",
        "最適なハイパーパラメタは C = 1"
      ]
    },
    {
      "cell_type": "code",
      "execution_count": 8,
      "metadata": {
        "colab": {
          "base_uri": "https://localhost:8080/"
        },
        "id": "KxhFkXDcjDF0",
        "outputId": "9228961f-f25d-4425-def5-92f5658be069"
      },
      "outputs": [
        {
          "name": "stdout",
          "output_type": "stream",
          "text": [
            "QWK = 0.330  C = 1\n",
            "QWK = 0.338  C = 5\n",
            "QWK = 0.324  C = 10\n",
            "QWK = 0.299  C = 50\n",
            "最適なハイパーパラメタは C = 5\n"
          ]
        }
      ],
      "source": [
        "best_qwk = 0\n",
        "best_c = 1\n",
        "for c in [1, 5,10, 50]:\n",
        "    model = LogisticRegression(C=c, random_state=0,max_iter=1500)\n",
        "    model.fit(X_train, y_train)\n",
        "    y_pred = model.predict(X_dev)\n",
        "    qwk = cohen_kappa_score(y_dev,y_pred, weights='quadratic')\n",
        "    if qwk > best_qwk:\n",
        "        best_qwk = qwk\n",
        "        best_c = c\n",
        "    print(\"QWK = %.3f  C = %s\" % (qwk, str(c)))\n",
        "print(\"最適なハイパーパラメタは C = %s\" % str(best_c))\n",
        "\n",
        "\n",
        "model = LogisticRegression(C=best_c, random_state=0,max_iter=1500)\n",
        "model.fit(X_train, y_train)\n",
        "y_preds = model.predict(X_test)\n",
        "\n",
        "y_preds -= 2\n",
        "with open('src/' + prepro + '/eval.txt','w') as f:\n",
        "  for y_pred in y_preds:\n",
        "    y_pred = int(y_pred)\n",
        "    y_pred = str(y_pred)\n",
        "    f.write(y_pred + '\\n')"
      ]
    },
    {
      "cell_type": "markdown",
      "metadata": {
        "id": "ige15K_9gPx8"
      },
      "source": [
        "-2 origin(nagisa)\n",
        "QWK = 0.329  C = 1\n",
        "QWK = 0.339  C = 5\n",
        "QWK = 0.333  C = 10\n",
        "QWK = 0.294  C = 50\n",
        "最適なハイパーパラメタは C = 5\n",
        "\n",
        "0 origin(顔文字あり)\n"
      ]
    },
    {
      "cell_type": "code",
      "execution_count": null,
      "metadata": {
        "id": "k6wVQAo7xdD0"
      },
      "outputs": [],
      "source": [
        "c_best = 5"
      ]
    },
    {
      "cell_type": "code",
      "execution_count": null,
      "metadata": {
        "id": "1fz2Nfu5VsbX"
      },
      "outputs": [],
      "source": [
        "model = LogisticRegression(C=best_c, random_state=0,max_iter=1500)\n",
        "model.fit(X_train, y_train)\n",
        "y_preds = model.predict(X_test)\n",
        "\n",
        "with open('src/' + prepro + '/eval.txt','w') as f:\n",
        "  for y_pred in y_preds:\n",
        "    y_pred = int(y_pred)\n",
        "    y_pred = str(y_pred)\n",
        "    f.write(y_pred + '\\n')"
      ]
    },
    {
      "cell_type": "code",
      "execution_count": null,
      "metadata": {
        "colab": {
          "base_uri": "https://localhost:8080/"
        },
        "id": "2uzmCO_PSOmw",
        "outputId": "e7877577-7478-434c-ffa5-ee315e1742ee"
      },
      "outputs": [
        {
          "data": {
            "text/plain": [
              "array([0., 0., 0., ..., 1., 1., 1.])"
            ]
          },
          "execution_count": 23,
          "metadata": {},
          "output_type": "execute_result"
        }
      ],
      "source": [
        "y_preds"
      ]
    },
    {
      "cell_type": "code",
      "execution_count": 14,
      "metadata": {
        "colab": {
          "base_uri": "https://localhost:8080/"
        },
        "id": "S5yihapoiKnI",
        "outputId": "71357766-d70f-4a7d-eba2-1d49b0a6dfba"
      },
      "outputs": [
        {
          "name": "stdout",
          "output_type": "stream",
          "text": [
            "最適なハイパラ C = 5 : sudachi/C\n"
          ]
        }
      ],
      "source": [
        "print(f'最適なハイパラ C = {str(best_c)} : {prepro}')"
      ]
    },
    {
      "cell_type": "code",
      "execution_count": null,
      "metadata": {
        "colab": {
          "base_uri": "https://localhost:8080/"
        },
        "id": "sbqv7k45je1r",
        "outputId": "4f0fefdd-91cc-44e4-d6f9-75e8ffbd3345"
      },
      "outputs": [
        {
          "name": "stdout",
          "output_type": "stream",
          "text": [
            "QWK = 0.000   C = 0.01\n",
            "QWK = 0.021   C = 0.1\n",
            "QWK = 0.311   C = 1\n",
            "QWK = 0.372   C = 10\n",
            "QWK = 0.371   C = 100\n",
            "最適なハイパーパラメータは C = 1\n"
          ]
        }
      ],
      "source": [
        "best_qwk = 0\n",
        "best_c = 1\n",
        "for c in [0.01, 0.1, 1, 10, 100]:\n",
        "    model = SVC(kernel='rbf',C=c, random_state=0)\n",
        "    model.fit(X_train,y_train)\n",
        "    y_pred = model.predict(X_dev)\n",
        "    qwk = cohen_kappa_score(y_dev,y_pred, weights='quadratic')\n",
        "    if qwk > best_qwk:\n",
        "        best_qwk = qwk\n",
        "        best_c = c\n",
        "    print(\"QWK = %.3f   C = %s\" % (qwk, str(c)))\n",
        "\n",
        "# add prepro path\n",
        "print(f'最適なハイパラ C = {str(best_c)} : {prepro}')\n",
        "\n",
        "model = SVC(kernel='rbf',C=best_c, random_state=0)\n",
        "model.fit(X_train, y_train)\n",
        "y_preds = model.predict(X_dev)\n",
        "y_preds -= 2\n",
        "\n",
        "with open('src/' + prepro + '/eval.txt','w') as f:\n",
        "  for y_pred in y_preds:\n",
        "    y_pred = int(y_pred)\n",
        "    y_pred = str(y_pred)\n",
        "    f.write(y_pred + '\\n')"
      ]
    },
    {
      "cell_type": "code",
      "execution_count": null,
      "metadata": {
        "id": "E2VH7tiukJmg"
      },
      "outputs": [],
      "source": [
        "best_c = 10\n",
        "model = SVC(kernel='rbf',C=best_c, random_state=0)\n",
        "model.fit(X_train, y_train)\n",
        "y_preds = model.predict(X_test)\n",
        "\n",
        "with open('src/' + prepro + '/eval.txt','w') as f:\n",
        "  for y_pred in y_preds:\n",
        "    y_pred = int(y_pred)\n",
        "    y_pred = str(y_pred)\n",
        "    f.write(y_pred + '\\n')"
      ]
    },
    {
      "cell_type": "code",
      "execution_count": null,
      "metadata": {
        "id": "DRUjg9dNjFpM"
      },
      "outputs": [],
      "source": [
        "y_preds = model.predict(X_test)\n",
        "\n",
        "with open('src/' + prepro + '/eval.txt','w') as f:\n",
        "  for y_pred in y_preds:\n",
        "    y_pred = int(y_pred)\n",
        "    y_pred = str(y_pred)\n",
        "    f.write(y_pred + '\\n')"
      ]
    },
    {
      "cell_type": "code",
      "execution_count": null,
      "metadata": {
        "id": "ZthvHR_3meJ8"
      },
      "outputs": [],
      "source": []
    }
  ],
  "metadata": {
    "colab": {
      "provenance": []
    },
    "kernelspec": {
      "display_name": "Python 3.8.8 ('py37')",
      "language": "python",
      "name": "python3"
    },
    "language_info": {
      "name": "python",
      "version": "3.8.8 (default, Apr 13 2021, 12:59:45) \n[Clang 10.0.0 ]"
    },
    "vscode": {
      "interpreter": {
        "hash": "0bbcfcc1b2607f9590d16c6d822fed489540cbd3ba0db4dddb602648fbc29ae6"
      }
    }
  },
  "nbformat": 4,
  "nbformat_minor": 0
}
