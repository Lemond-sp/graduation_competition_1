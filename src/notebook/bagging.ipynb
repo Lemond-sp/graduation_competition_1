{
  "nbformat": 4,
  "nbformat_minor": 0,
  "metadata": {
    "colab": {
      "provenance": []
    },
    "kernelspec": {
      "name": "python3",
      "display_name": "Python 3"
    },
    "language_info": {
      "name": "python"
    }
  },
  "cells": [
    {
      "cell_type": "code",
      "execution_count": 1,
      "metadata": {
        "id": "-WbNL1mKgc2L"
      },
      "outputs": [],
      "source": [
        "# ライブラリの導入\n",
        "\n",
        "import matplotlib.pyplot as plt\n",
        "import numpy as np\n",
        "import pandas as pd\n",
        "from sklearn.svm import LinearSVC\n",
        "from sklearn.svm import SVC\n",
        "from sklearn.linear_model import LogisticRegression\n",
        "from sklearn.linear_model import Ridge\n",
        "from sklearn.preprocessing import StandardScaler\n",
        "from sklearn.model_selection import train_test_split\n",
        "\n",
        "from sklearn.metrics import cohen_kappa_score\n",
        "from sklearn.tree import DecisionTreeClassifier\n",
        "from sklearn.ensemble import BaggingClassifier"
      ]
    },
    {
      "cell_type": "code",
      "source": [
        "#ファイル\n",
        "from google.colab import drive\n",
        "drive.mount('/content/drive')\n",
        "%cd /content/drive/MyDrive/grad_comp"
      ],
      "metadata": {
        "colab": {
          "base_uri": "https://localhost:8080/"
        },
        "id": "c_tGs3Z_g34L",
        "outputId": "8c8b49a6-c55f-4acc-8628-d99b77ce491a"
      },
      "execution_count": 2,
      "outputs": [
        {
          "output_type": "stream",
          "name": "stdout",
          "text": [
            "Mounted at /content/drive\n",
            "/content/drive/MyDrive/grad_comp\n"
          ]
        }
      ]
    },
    {
      "cell_type": "code",
      "source": [
        "#データ\n",
        "f = open('preprocess/mecab_neologd/text.prep02_train.txt', 'r')\n",
        "train_data = f.read()\n",
        "train_data = train_data.split('\\n')\n",
        "del train_data[30000]\n",
        "#x_train = np.zeros((30000, len(res)))\n",
        "\n",
        "f = open('preprocess/mecab_neologd/text.prep02_test.txt', 'r')\n",
        "test_data = f.read()\n",
        "test_data = test_data.split('\\n')\n",
        "del test_data[2500]\n",
        "#x_test = np.zeros((2500, len(res)))\n",
        "\n",
        "f = open('preprocess/mecab_neologd/text.prep02_dev.txt', 'r')\n",
        "dev_data = f.read()\n",
        "dev_data = dev_data.split('\\n')\n",
        "del dev_data[2500]\n",
        "#x_dev = np.zeros((2500, len(res)))\n",
        "\n",
        "y_train = np.loadtxt('/content/drive/MyDrive/grad_comp/data/label.train.txt')\n",
        "y_dev = np.loadtxt('/content/drive/MyDrive/grad_comp/data/label.dev.txt')\n",
        "\n",
        "u, counts = np.unique(y_train, return_counts=True)\n",
        "print(u)\n",
        "print(counts)"
      ],
      "metadata": {
        "colab": {
          "base_uri": "https://localhost:8080/"
        },
        "id": "GQviASWUhEGZ",
        "outputId": "57236b0f-35b7-4d61-98af-ace61fc9464b"
      },
      "execution_count": 3,
      "outputs": [
        {
          "output_type": "stream",
          "name": "stdout",
          "text": [
            "[-2. -1.  0.  1.  2.]\n",
            "[3543 5593 9227 7760 3877]\n"
          ]
        }
      ]
    },
    {
      "cell_type": "code",
      "source": [
        "# tf-idf\n",
        "from sklearn.feature_extraction.text import TfidfVectorizer\n",
        "vectorizer = TfidfVectorizer(max_features = 10000)\n",
        "X_train = vectorizer.fit_transform(train_data)\n",
        "X_dev = vectorizer.transform(dev_data)\n",
        "X_test = vectorizer.transform(test_data)"
      ],
      "metadata": {
        "id": "62WP4b9PhjIc"
      },
      "execution_count": 4,
      "outputs": []
    },
    {
      "cell_type": "code",
      "source": [
        "models = {\n",
        "    'not bagging': DecisionTreeClassifier(random_state=0),\n",
        "    'bagging': BaggingClassifier(DecisionTreeClassifier(random_state=0), n_estimators=100, random_state=0) \n",
        "}\n",
        "scores = {}\n",
        "for model_name, model in models.items():\n",
        "    model.fit(X_train, y_train)\n",
        "    scores[(model_name, 'train_score')] = model.score(X_train, y_train)\n",
        "    scores[(model_name, 'test_score')] = model.score(X_dev, y_dev)"
      ],
      "metadata": {
        "id": "qRvC73VYhI40"
      },
      "execution_count": 5,
      "outputs": []
    },
    {
      "cell_type": "code",
      "source": [
        "scores"
      ],
      "metadata": {
        "colab": {
          "base_uri": "https://localhost:8080/"
        },
        "id": "6tEUGmD9hpq9",
        "outputId": "18b4ff84-50db-4e3c-93cb-48018e2086b9"
      },
      "execution_count": 6,
      "outputs": [
        {
          "output_type": "execute_result",
          "data": {
            "text/plain": [
              "{('not bagging', 'train_score'): 0.9730333333333333,\n",
              " ('not bagging', 'test_score'): 0.2672,\n",
              " ('bagging', 'train_score'): 0.9730333333333333,\n",
              " ('bagging', 'test_score'): 0.3228}"
            ]
          },
          "metadata": {},
          "execution_count": 6
        }
      ]
    },
    {
      "cell_type": "code",
      "source": [],
      "metadata": {
        "id": "PcyiV13cpiuI"
      },
      "execution_count": null,
      "outputs": []
    }
  ]
}