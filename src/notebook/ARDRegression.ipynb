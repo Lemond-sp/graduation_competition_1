{
  "cells": [
    {
      "cell_type": "markdown",
      "metadata": {
        "id": "U4T0YXoFIOHs"
      },
      "source": [
        "https://zenn.dev/wsuzume/books/66b6fe7bb537b3e2b4bb/viewer/4b769d\n",
        "\n"
      ]
    },
    {
      "cell_type": "code",
      "execution_count": null,
      "metadata": {
        "id": "SeZfZdYbIA_b"
      },
      "outputs": [],
      "source": [
        "# ライブラリの導入\n",
        "from functools import partial\n",
        "import matplotlib.pyplot as plt\n",
        "import numpy as np\n",
        "import pandas as pd\n",
        "import scipy as sp\n",
        "from sklearn.svm import LinearSVC\n",
        "from sklearn.svm import SVC\n",
        "from sklearn.linear_model import LogisticRegression\n",
        "from sklearn.linear_model import Ridge\n",
        "from sklearn.preprocessing import StandardScaler\n",
        "from sklearn.model_selection import train_test_split\n",
        "from sklearn import linear_model\n",
        "# clf = linear_model.ARDRegression()\n",
        "from sklearn.metrics import cohen_kappa_score\n",
        "\n",
        "def adapt_labels(labels):\n",
        "  max_label = np.max(labels) # 2 or 4\n",
        "\n",
        "  if max_label == 2:\n",
        "    labels += 2\n",
        "  elif max_label == 4:\n",
        "    labels -= 2\n",
        "  else:\n",
        "    print('Exception error! please check with np.unique(labels).')\n",
        "  return labels"
      ]
    },
    {
      "cell_type": "code",
      "execution_count": null,
      "metadata": {
        "colab": {
          "base_uri": "https://localhost:8080/"
        },
        "id": "97rNE6cHLx4u",
        "outputId": "b895f31c-dcbc-44f1-919a-23c29e4d7898"
      },
      "outputs": [
        {
          "name": "stdout",
          "output_type": "stream",
          "text": [
            "Mounted at /content/drive\n",
            "/content/drive/MyDrive/grad_comp\n"
          ]
        }
      ],
      "source": [
        "#ファイル\n",
        "from google.colab import drive\n",
        "drive.mount('/content/drive')\n",
        "%cd /content/drive/MyDrive/grad_comp"
      ]
    },
    {
      "cell_type": "code",
      "execution_count": null,
      "metadata": {
        "colab": {
          "base_uri": "https://localhost:8080/"
        },
        "id": "Y36jxAYRLz10",
        "outputId": "cd95ebe7-2fde-4a52-cc49-ca9a9ad11743"
      },
      "outputs": [
        {
          "name": "stdout",
          "output_type": "stream",
          "text": [
            "[0. 1. 2. 3. 4.]\n",
            "[3543 5593 9227 7760 3877]\n"
          ]
        }
      ],
      "source": [
        "# preprocess path\n",
        "prepro = 'sudachi/A'\n",
        "\n",
        "# setup data\n",
        "\n",
        "f = open('preprocess/' + prepro + '/text.prep_train.txt', 'r')\n",
        "train_data = f.read()\n",
        "train_data = train_data.split('\\n')\n",
        "del train_data[30000]\n",
        "#x_train = np.zeros((30000, len(res)))\n",
        "\n",
        "f = open('preprocess/' + prepro + '/text.prep_test.txt', 'r')\n",
        "test_data = f.read()\n",
        "test_data = test_data.split('\\n')\n",
        "del test_data[2500]\n",
        "#x_test = np.zeros((2500, len(res)))\n",
        "\n",
        "f = open('preprocess/' + prepro + '/text.prep_dev.txt', 'r')\n",
        "dev_data = f.read()\n",
        "dev_data = dev_data.split('\\n')\n",
        "del dev_data[2500]\n",
        "#x_dev = np.zeros((2500, len(res)))\n",
        "\n",
        "# label\n",
        "y_train = np.loadtxt('/content/drive/MyDrive/grad_comp/data/label.train.txt')\n",
        "y_dev = np.loadtxt('/content/drive/MyDrive/grad_comp/data/label.dev.txt')\n",
        "\n",
        "adapt_labels(y_train)\n",
        "adapt_labels(y_dev)\n",
        "\n",
        "u, counts = np.unique(y_train, return_counts=True)\n",
        "print(u)\n",
        "print(counts)"
      ]
    },
    {
      "cell_type": "code",
      "execution_count": null,
      "metadata": {
        "id": "_2LeLPo9MLtG"
      },
      "outputs": [],
      "source": [
        "class OptimizedRounder(object):\n",
        "    def __init__(self):\n",
        "        self.coef_ = 0\n",
        "\n",
        "    def _kappa_loss(self, coef, X, y):\n",
        "        X_p = np.copy(X) # Xにも影響しないよう\n",
        "        for i, pred in enumerate(X_p):\n",
        "          # こちらはエラーなし\n",
        "            if pred < coef[0]:\n",
        "                X_p[i] = 0\n",
        "            elif pred >= coef[0] and pred < coef[1]:\n",
        "                X_p[i] = 1\n",
        "            elif pred >= coef[1] and pred < coef[2]:\n",
        "                X_p[i] = 2\n",
        "            elif pred >= coef[2] and pred < coef[3]:\n",
        "                X_p[i] = 3\n",
        "            else:\n",
        "                X_p[i] = 4\n",
        "        # ライブラリののqwkに変更\n",
        "        ll = cohen_kappa_score(y,X_p,weights='quadratic')\n",
        "        return -ll # optimize.minimizeより\n",
        "\n",
        "    # 閾値の最適化(nelder-mead法)\n",
        "    def fit(self, X, y):\n",
        "        loss_partial = partial(self._kappa_loss, X=X, y=y)\n",
        "        initial_coef = [0.5, 1.5, 2.5, 3.5]\n",
        "        x_qwk = sp.optimize.minimize(loss_partial, initial_coef,method='Nelder-Mead')\n",
        "        #print(type(x_qwk['x'])) # numpy.ndarray\n",
        "        # print(x_qwk['x'][0]) # 0.5\n",
        "        self.coef_ = x_qwk\n",
        "        #print(x_qwk['x'])\n",
        "\n",
        "    def predict(self, X, coef):\n",
        "        X_p = np.copy(X)\n",
        "        coef = self.coef_.x # self.coef_.x経由だとなぜかエラーを吐くため\n",
        "        #print(coef)\n",
        "        for i, pred in enumerate(X_p):\n",
        "            if pred < coef[0]:\n",
        "                X_p[i] = 0\n",
        "            elif pred >= coef[0] and pred < coef[1]:\n",
        "                X_p[i] = 1\n",
        "            elif pred >= coef[1] and pred < coef[2]:\n",
        "                X_p[i] = 2\n",
        "            elif pred >= coef[2] and pred < coef[3]:\n",
        "                X_p[i] = 3\n",
        "            else:\n",
        "                X_p[i] = 4\n",
        "        return X_p\n",
        "\n",
        "    def coefficients(self):\n",
        "        return self.coef_.x"
      ]
    },
    {
      "cell_type": "code",
      "execution_count": null,
      "metadata": {
        "id": "F7p4Qz6d7Qk2"
      },
      "outputs": [],
      "source": [
        "from sklearn.feature_extraction.text import TfidfVectorizer\n",
        "vectorizer = TfidfVectorizer(max_features=2500)\n",
        "X_train = vectorizer.fit_transform(train_data)\n",
        "X_dev = vectorizer.transform(dev_data)\n",
        "X_test = vectorizer.transform(test_data)"
      ]
    },
    {
      "cell_type": "code",
      "execution_count": null,
      "metadata": {
        "colab": {
          "base_uri": "https://localhost:8080/"
        },
        "id": "8BpfZFj9NH0y",
        "outputId": "d38f9c7b-1597-4b8d-f288-7af75279c0a1"
      },
      "outputs": [
        {
          "name": "stdout",
          "output_type": "stream",
          "text": [
            "0.4484165601031588\n"
          ]
        }
      ],
      "source": [
        "X_train = X_train.toarray()\n",
        "X_dev = X_dev.toarray()\n",
        "\n",
        "model = linear_model.ARDRegression()\n",
        "model.fit(X_train, y_train)\n",
        "y_pred = model.predict(X_dev)\n",
        "optR = OptimizedRounder()\n",
        "optR.fit(y_pred, y_dev)\n",
        "optimized = optR.predict(y_pred, optR.coefficients)\n",
        "qwk = cohen_kappa_score(y_dev,optimized, weights='quadratic')\n",
        "print(qwk)"
      ]
    },
    {
      "cell_type": "code",
      "execution_count": null,
      "metadata": {
        "id": "nvVftCnpNU73"
      },
      "outputs": [],
      "source": [
        "# submit\n",
        "y_pred = model.predict(X_test)\n",
        "optimized = optR.predict(y_pred, optR.coefficients)\n",
        "adapt_labels(optimized)\n",
        "with open('src/' + prepro + '/A2500ARDR_eval.txt','w') as f:\n",
        "  for y_pred in optimized:\n",
        "    y_pred = int(y_pred)\n",
        "    y_pred = str(y_pred)\n",
        "    f.write(y_pred + '\\n')"
      ]
    },
    {
      "cell_type": "markdown",
      "metadata": {
        "id": "BI9Y7JUsdPxG"
      },
      "source": [
        "### confusion matrix"
      ]
    },
    {
      "cell_type": "code",
      "execution_count": null,
      "metadata": {
        "id": "CrBeXCWQkCHo"
      },
      "outputs": [],
      "source": [
        "y_dev_pred = model.predict(X_dev)"
      ]
    },
    {
      "cell_type": "code",
      "execution_count": null,
      "metadata": {
        "colab": {
          "base_uri": "https://localhost:8080/"
        },
        "id": "zRGbk-w3khnB",
        "outputId": "41f7b61d-bf6c-4341-91f0-977e6e896a52"
      },
      "outputs": [
        {
          "data": {
            "text/plain": [
              "0.3528"
            ]
          },
          "execution_count": 29,
          "metadata": {},
          "output_type": "execute_result"
        }
      ],
      "source": [
        "optimized = optR.predict(y_dev_pred, optR.coefficients)\n",
        "adapt_labels(optimized)\n",
        "# 試しに正解率\n",
        "from sklearn.metrics import accuracy_score\n",
        "accuracy_score(y_dev,optimized)"
      ]
    },
    {
      "cell_type": "code",
      "execution_count": null,
      "metadata": {
        "colab": {
          "base_uri": "https://localhost:8080/",
          "height": 282
        },
        "id": "kgUwVtlqb2Lc",
        "outputId": "624d02d1-3f38-4038-ed86-050a55d6ee0e"
      },
      "outputs": [
        {
          "data": {
            "text/plain": [
              "<matplotlib.axes._subplots.AxesSubplot at 0x7f14734b8640>"
            ]
          },
          "execution_count": 27,
          "metadata": {},
          "output_type": "execute_result"
        },
        {
          "data": {
            "image/png": "[encoded data removed]",
            "text/plain": [
              "<Figure size 432x288 with 2 Axes>"
            ]
          },
          "metadata": {
            "needs_background": "light"
          },
          "output_type": "display_data"
        }
      ],
      "source": [
        "# confusion matrix\n",
        "from sklearn.metrics import confusion_matrix\n",
        "import seaborn as sns\n",
        "import matplotlib.pyplot as plt\n",
        "\n",
        "name = [-2,-1,0,1,2]\n",
        "adapt_labels(optimized)\n",
        "from sklearn.metrics import confusion_matrix\n",
        "val_mat = confusion_matrix(y_dev, optimized, labels=name)\n",
        "\n",
        "sns.heatmap(val_mat, square=True, cbar=True, annot=True, cmap='Blues')\n",
        "# やはり、強い極性を判別できていない\n",
        "# plt.savefig('sklearn_confusion_matrix.png')"
      ]
    },
    {
      "cell_type": "code",
      "execution_count": null,
      "metadata": {
        "id": "nZoHRyD6ntdb"
      },
      "outputs": [],
      "source": [
        "# save and load model\n",
        "# モデルを保存する\n",
        "import pickle\n",
        "filename = 'src/Aardr_model4000.sav'\n",
        "pickle.dump(model, open(filename, 'wb'))\n",
        "\n",
        "# 保存したモデルをロードする\n",
        "#loaded_model = pickle.load(open(filename, 'rb'))\n",
        "# result = loaded_model.score(X_test, Y_test)\n",
        "# print(result)"
      ]
    },
    {
      "cell_type": "code",
      "execution_count": null,
      "metadata": {
        "id": "yP2khLRb39wB"
      },
      "outputs": [],
      "source": [
        "# 多数決\n",
        "results = np.array([result_1, result_2, result_3])\n",
        "ans = [*map(lambda x: np.argmax(np.bincount(x)), result.T)]\n",
        "\n",
        "loaded_model = pickle.load(open(filename, 'rb'))"
      ]
    },
    {
      "cell_type": "code",
      "execution_count": null,
      "metadata": {
        "colab": {
          "base_uri": "https://localhost:8080/",
          "height": 494
        },
        "id": "sB2d4K6nMG1y",
        "outputId": "0efc32b2-b8ff-49b8-b0fd-8d119d76adfc"
      },
      "outputs": [
        {
          "name": "stdout",
          "output_type": "stream",
          "text": [
            "QWK = 0.415  C = 0\n",
            "QWK = 0.415  C = 0\n",
            "QWK = 0.415  C = 0\n",
            "QWK = 0.415  C = 0\n",
            "最適なハイパーパラメタは alpha1 = 0\n"
          ]
        },
        {
          "ename": "KeyboardInterrupt",
          "evalue": "ignored",
          "output_type": "error",
          "traceback": [
            "\u001b[0;31m---------------------------------------------------------------------------\u001b[0m",
            "\u001b[0;31mKeyboardInterrupt\u001b[0m                         Traceback (most recent call last)",
            "\u001b[0;32m<ipython-input-31-0c876782de92>\u001b[0m in \u001b[0;36m<module>\u001b[0;34m\u001b[0m\n\u001b[1;32m     22\u001b[0m \u001b[0;34m\u001b[0m\u001b[0m\n\u001b[1;32m     23\u001b[0m \u001b[0mmodel\u001b[0m \u001b[0;34m=\u001b[0m \u001b[0mlinear_model\u001b[0m\u001b[0;34m.\u001b[0m\u001b[0mARDRegression\u001b[0m\u001b[0;34m(\u001b[0m\u001b[0malpha_1\u001b[0m\u001b[0;34m=\u001b[0m\u001b[0mbest_alpha1\u001b[0m\u001b[0;34m)\u001b[0m\u001b[0;34m\u001b[0m\u001b[0;34m\u001b[0m\u001b[0m\n\u001b[0;32m---> 24\u001b[0;31m \u001b[0mmodel\u001b[0m\u001b[0;34m.\u001b[0m\u001b[0mfit\u001b[0m\u001b[0;34m(\u001b[0m\u001b[0mX_train\u001b[0m\u001b[0;34m,\u001b[0m \u001b[0my_train\u001b[0m\u001b[0;34m)\u001b[0m\u001b[0;34m\u001b[0m\u001b[0;34m\u001b[0m\u001b[0m\n\u001b[0m\u001b[1;32m     25\u001b[0m \u001b[0my_preds\u001b[0m \u001b[0;34m=\u001b[0m \u001b[0mmodel\u001b[0m\u001b[0;34m.\u001b[0m\u001b[0mpredict\u001b[0m\u001b[0;34m(\u001b[0m\u001b[0mX_test\u001b[0m\u001b[0;34m)\u001b[0m\u001b[0;34m\u001b[0m\u001b[0;34m\u001b[0m\u001b[0m\n\u001b[1;32m     26\u001b[0m \u001b[0moptimized\u001b[0m \u001b[0;34m=\u001b[0m \u001b[0moptR\u001b[0m\u001b[0;34m.\u001b[0m\u001b[0mpredict\u001b[0m\u001b[0;34m(\u001b[0m\u001b[0my_preds\u001b[0m\u001b[0;34m,\u001b[0m \u001b[0moptR\u001b[0m\u001b[0;34m.\u001b[0m\u001b[0mcoefficients\u001b[0m\u001b[0;34m)\u001b[0m\u001b[0;34m\u001b[0m\u001b[0;34m\u001b[0m\u001b[0m\n",
            "\u001b[0;32m/usr/local/lib/python3.8/dist-packages/sklearn/linear_model/_bayes.py\u001b[0m in \u001b[0;36mfit\u001b[0;34m(self, X, y)\u001b[0m\n\u001b[1;32m    664\u001b[0m         \u001b[0;31m# Iterative procedure of ARDRegression\u001b[0m\u001b[0;34m\u001b[0m\u001b[0;34m\u001b[0m\u001b[0;34m\u001b[0m\u001b[0m\n\u001b[1;32m    665\u001b[0m         \u001b[0;32mfor\u001b[0m \u001b[0miter_\u001b[0m \u001b[0;32min\u001b[0m \u001b[0mrange\u001b[0m\u001b[0;34m(\u001b[0m\u001b[0mself\u001b[0m\u001b[0;34m.\u001b[0m\u001b[0mn_iter\u001b[0m\u001b[0;34m)\u001b[0m\u001b[0;34m:\u001b[0m\u001b[0;34m\u001b[0m\u001b[0;34m\u001b[0m\u001b[0m\n\u001b[0;32m--> 666\u001b[0;31m             \u001b[0msigma_\u001b[0m \u001b[0;34m=\u001b[0m \u001b[0mupdate_sigma\u001b[0m\u001b[0;34m(\u001b[0m\u001b[0mX\u001b[0m\u001b[0;34m,\u001b[0m \u001b[0malpha_\u001b[0m\u001b[0;34m,\u001b[0m \u001b[0mlambda_\u001b[0m\u001b[0;34m,\u001b[0m \u001b[0mkeep_lambda\u001b[0m\u001b[0;34m)\u001b[0m\u001b[0;34m\u001b[0m\u001b[0;34m\u001b[0m\u001b[0m\n\u001b[0m\u001b[1;32m    667\u001b[0m             \u001b[0mcoef_\u001b[0m \u001b[0;34m=\u001b[0m \u001b[0mupdate_coeff\u001b[0m\u001b[0;34m(\u001b[0m\u001b[0mX\u001b[0m\u001b[0;34m,\u001b[0m \u001b[0my\u001b[0m\u001b[0;34m,\u001b[0m \u001b[0mcoef_\u001b[0m\u001b[0;34m,\u001b[0m \u001b[0malpha_\u001b[0m\u001b[0;34m,\u001b[0m \u001b[0mkeep_lambda\u001b[0m\u001b[0;34m,\u001b[0m \u001b[0msigma_\u001b[0m\u001b[0;34m)\u001b[0m\u001b[0;34m\u001b[0m\u001b[0;34m\u001b[0m\u001b[0m\n\u001b[1;32m    668\u001b[0m \u001b[0;34m\u001b[0m\u001b[0m\n",
            "\u001b[0;32m/usr/local/lib/python3.8/dist-packages/sklearn/linear_model/_bayes.py\u001b[0m in \u001b[0;36m_update_sigma\u001b[0;34m(self, X, alpha_, lambda_, keep_lambda)\u001b[0m\n\u001b[1;32m    739\u001b[0m         \u001b[0;31m# invert a matrix of shape (n_features, n_features)\u001b[0m\u001b[0;34m\u001b[0m\u001b[0;34m\u001b[0m\u001b[0;34m\u001b[0m\u001b[0m\n\u001b[1;32m    740\u001b[0m         \u001b[0mX_keep\u001b[0m \u001b[0;34m=\u001b[0m \u001b[0mX\u001b[0m\u001b[0;34m[\u001b[0m\u001b[0;34m:\u001b[0m\u001b[0;34m,\u001b[0m \u001b[0mkeep_lambda\u001b[0m\u001b[0;34m]\u001b[0m\u001b[0;34m\u001b[0m\u001b[0;34m\u001b[0m\u001b[0m\n\u001b[0;32m--> 741\u001b[0;31m         \u001b[0mgram\u001b[0m \u001b[0;34m=\u001b[0m \u001b[0mnp\u001b[0m\u001b[0;34m.\u001b[0m\u001b[0mdot\u001b[0m\u001b[0;34m(\u001b[0m\u001b[0mX_keep\u001b[0m\u001b[0;34m.\u001b[0m\u001b[0mT\u001b[0m\u001b[0;34m,\u001b[0m \u001b[0mX_keep\u001b[0m\u001b[0;34m)\u001b[0m\u001b[0;34m\u001b[0m\u001b[0;34m\u001b[0m\u001b[0m\n\u001b[0m\u001b[1;32m    742\u001b[0m         \u001b[0meye\u001b[0m \u001b[0;34m=\u001b[0m \u001b[0mnp\u001b[0m\u001b[0;34m.\u001b[0m\u001b[0meye\u001b[0m\u001b[0;34m(\u001b[0m\u001b[0mgram\u001b[0m\u001b[0;34m.\u001b[0m\u001b[0mshape\u001b[0m\u001b[0;34m[\u001b[0m\u001b[0;36m0\u001b[0m\u001b[0;34m]\u001b[0m\u001b[0;34m)\u001b[0m\u001b[0;34m\u001b[0m\u001b[0;34m\u001b[0m\u001b[0m\n\u001b[1;32m    743\u001b[0m         \u001b[0msigma_inv\u001b[0m \u001b[0;34m=\u001b[0m \u001b[0mlambda_\u001b[0m\u001b[0;34m[\u001b[0m\u001b[0mkeep_lambda\u001b[0m\u001b[0;34m]\u001b[0m \u001b[0;34m*\u001b[0m \u001b[0meye\u001b[0m \u001b[0;34m+\u001b[0m \u001b[0malpha_\u001b[0m \u001b[0;34m*\u001b[0m \u001b[0mgram\u001b[0m\u001b[0;34m\u001b[0m\u001b[0;34m\u001b[0m\u001b[0m\n",
            "\u001b[0;32m<__array_function__ internals>\u001b[0m in \u001b[0;36mdot\u001b[0;34m(*args, **kwargs)\u001b[0m\n",
            "\u001b[0;31mKeyboardInterrupt\u001b[0m: "
          ]
        }
      ],
      "source": [
        "# # Grid search\n",
        "# X_train = X_train.toarray()\n",
        "# X_dev = X_dev.toarray()\n",
        "\n",
        "# a1 = 0\n",
        "# best_qwk = 0\n",
        "# best_alpha1 = 1\n",
        "# for alpha1 in [1,1e-3,1e-6,1e-9]:\n",
        "#     model = linear_model.ARDRegression(alpha_1=alpha1)\n",
        "#     model.fit(X_train, y_train)\n",
        "#     y_pred = model.predict(X_dev)\n",
        "#     optR = OptimizedRounder()\n",
        "#     optR.fit(y_pred, y_dev)\n",
        "#     optimized = optR.predict(y_pred, optR.coefficients)\n",
        "#     qwk = cohen_kappa_score(y_dev,optimized, weights='quadratic')\n",
        "#     if qwk > best_qwk:\n",
        "#         best_qwk = qwk\n",
        "#         best_alpha1 = a1\n",
        "#     print(\"QWK = %.3f  C = %s\" % (qwk, str(a1)))\n",
        "# print(\"最適なハイパーパラメタは alpha1 = %s\" % str(best_alpha1))\n",
        "\n",
        "\n",
        "# model = linear_model.ARDRegression(alpha_1=best_alpha1)\n",
        "# model.fit(X_train, y_train)\n",
        "# y_preds = model.predict(X_test)\n",
        "# optimized = optR.predict(y_preds, optR.coefficients)\n",
        "# adapt_labels(optimized)\n",
        "# with open('src/' + prepro + '/eval.txt','w') as f:\n",
        "#   for y_pred in optimized:\n",
        "#     y_pred = int(y_pred)\n",
        "#     y_pred = str(y_pred)\n",
        "#     f.write(y_pred + '\\n')"
      ]
    },
    {
      "cell_type": "code",
      "execution_count": null,
      "metadata": {
        "id": "KW5VXNkd4SGT"
      },
      "outputs": [],
      "source": []
    }
  ],
  "metadata": {
    "colab": {
      "machine_shape": "hm",
      "provenance": []
    },
    "gpuClass": "standard",
    "kernelspec": {
      "display_name": "py37",
      "language": "python",
      "name": "python3"
    },
    "language_info": {
      "name": "python",
      "version": "3.8.8 (default, Apr 13 2021, 12:59:45) \n[Clang 10.0.0 ]"
    },
    "vscode": {
      "interpreter": {
        "hash": "0bbcfcc1b2607f9590d16c6d822fed489540cbd3ba0db4dddb602648fbc29ae6"
      }
    }
  },
  "nbformat": 4,
  "nbformat_minor": 0
}
