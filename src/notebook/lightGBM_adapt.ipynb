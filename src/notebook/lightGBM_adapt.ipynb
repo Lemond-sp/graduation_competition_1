{
  "cells": [
    {
      "cell_type": "markdown",
      "metadata": {
        "id": "W37gzxc2Kc1r"
      },
      "source": [
        "## lightGBM(Reg) + tf-idf(max) + sudachi(C)"
      ]
    },
    {
      "cell_type": "code",
      "source": [
        "# setup lib\n",
        "! pip install scikit-learn optuna lightgbm pandas\n",
        "# optuna/lightgbm(gpu)\n",
        "#! pip uninstall --yes lightgbm && pip install --install-option=--gpu lightgbm"
      ],
      "metadata": {
        "colab": {
          "base_uri": "https://localhost:8080/"
        },
        "id": "jPMtGNzrqtIF",
        "outputId": "33630b97-f6d2-4b55-d232-4b8294c66150"
      },
      "execution_count": 1,
      "outputs": [
        {
          "output_type": "stream",
          "name": "stdout",
          "text": [
            "Looking in indexes: https://pypi.org/simple, https://us-python.pkg.dev/colab-wheels/public/simple/\n",
            "Requirement already satisfied: scikit-learn in /usr/local/lib/python3.8/dist-packages (1.0.2)\n",
            "Collecting optuna\n",
            "  Downloading optuna-3.0.4-py3-none-any.whl (348 kB)\n",
            "\u001b[K     |████████████████████████████████| 348 kB 44.7 MB/s \n",
            "\u001b[?25hRequirement already satisfied: lightgbm in /usr/local/lib/python3.8/dist-packages (2.2.3)\n",
            "Requirement already satisfied: pandas in /usr/local/lib/python3.8/dist-packages (1.3.5)\n",
            "Requirement already satisfied: joblib>=0.11 in /usr/local/lib/python3.8/dist-packages (from scikit-learn) (1.2.0)\n",
            "Requirement already satisfied: scipy>=1.1.0 in /usr/local/lib/python3.8/dist-packages (from scikit-learn) (1.7.3)\n",
            "Requirement already satisfied: threadpoolctl>=2.0.0 in /usr/local/lib/python3.8/dist-packages (from scikit-learn) (3.1.0)\n",
            "Requirement already satisfied: numpy>=1.14.6 in /usr/local/lib/python3.8/dist-packages (from scikit-learn) (1.21.6)\n",
            "Collecting cmaes>=0.8.2\n",
            "  Downloading cmaes-0.9.0-py3-none-any.whl (23 kB)\n",
            "Collecting importlib-metadata<5.0.0\n",
            "  Downloading importlib_metadata-4.13.0-py3-none-any.whl (23 kB)\n",
            "Requirement already satisfied: tqdm in /usr/local/lib/python3.8/dist-packages (from optuna) (4.64.1)\n",
            "Collecting cliff\n",
            "  Downloading cliff-4.1.0-py3-none-any.whl (81 kB)\n",
            "\u001b[K     |████████████████████████████████| 81 kB 11.1 MB/s \n",
            "\u001b[?25hRequirement already satisfied: sqlalchemy>=1.3.0 in /usr/local/lib/python3.8/dist-packages (from optuna) (1.4.45)\n",
            "Requirement already satisfied: PyYAML in /usr/local/lib/python3.8/dist-packages (from optuna) (6.0)\n",
            "Requirement already satisfied: packaging>=20.0 in /usr/local/lib/python3.8/dist-packages (from optuna) (21.3)\n",
            "Collecting alembic>=1.5.0\n",
            "  Downloading alembic-1.9.0-py3-none-any.whl (210 kB)\n",
            "\u001b[K     |████████████████████████████████| 210 kB 116.5 MB/s \n",
            "\u001b[?25hCollecting colorlog\n",
            "  Downloading colorlog-6.7.0-py2.py3-none-any.whl (11 kB)\n",
            "Requirement already satisfied: importlib-resources in /usr/local/lib/python3.8/dist-packages (from alembic>=1.5.0->optuna) (5.10.1)\n",
            "Collecting Mako\n",
            "  Downloading Mako-1.2.4-py3-none-any.whl (78 kB)\n",
            "\u001b[K     |████████████████████████████████| 78 kB 9.1 MB/s \n",
            "\u001b[?25hRequirement already satisfied: zipp>=0.5 in /usr/local/lib/python3.8/dist-packages (from importlib-metadata<5.0.0->optuna) (3.11.0)\n",
            "Requirement already satisfied: pyparsing!=3.0.5,>=2.0.2 in /usr/local/lib/python3.8/dist-packages (from packaging>=20.0->optuna) (3.0.9)\n",
            "Requirement already satisfied: greenlet!=0.4.17 in /usr/local/lib/python3.8/dist-packages (from sqlalchemy>=1.3.0->optuna) (2.0.1)\n",
            "Requirement already satisfied: python-dateutil>=2.7.3 in /usr/local/lib/python3.8/dist-packages (from pandas) (2.8.2)\n",
            "Requirement already satisfied: pytz>=2017.3 in /usr/local/lib/python3.8/dist-packages (from pandas) (2022.6)\n",
            "Requirement already satisfied: six>=1.5 in /usr/local/lib/python3.8/dist-packages (from python-dateutil>=2.7.3->pandas) (1.15.0)\n",
            "Collecting autopage>=0.4.0\n",
            "  Downloading autopage-0.5.1-py3-none-any.whl (29 kB)\n",
            "Collecting cmd2>=1.0.0\n",
            "  Downloading cmd2-2.4.2-py3-none-any.whl (147 kB)\n",
            "\u001b[K     |████████████████████████████████| 147 kB 64.1 MB/s \n",
            "\u001b[?25hRequirement already satisfied: PrettyTable>=0.7.2 in /usr/local/lib/python3.8/dist-packages (from cliff->optuna) (3.5.0)\n",
            "Collecting stevedore>=2.0.1\n",
            "  Downloading stevedore-4.1.1-py3-none-any.whl (50 kB)\n",
            "\u001b[K     |████████████████████████████████| 50 kB 7.9 MB/s \n",
            "\u001b[?25hRequirement already satisfied: wcwidth>=0.1.7 in /usr/local/lib/python3.8/dist-packages (from cmd2>=1.0.0->cliff->optuna) (0.2.5)\n",
            "Requirement already satisfied: attrs>=16.3.0 in /usr/local/lib/python3.8/dist-packages (from cmd2>=1.0.0->cliff->optuna) (22.1.0)\n",
            "Collecting pyperclip>=1.6\n",
            "  Downloading pyperclip-1.8.2.tar.gz (20 kB)\n",
            "Collecting pbr!=2.1.0,>=2.0.0\n",
            "  Downloading pbr-5.11.0-py2.py3-none-any.whl (112 kB)\n",
            "\u001b[K     |████████████████████████████████| 112 kB 80.3 MB/s \n",
            "\u001b[?25hRequirement already satisfied: MarkupSafe>=0.9.2 in /usr/local/lib/python3.8/dist-packages (from Mako->alembic>=1.5.0->optuna) (2.0.1)\n",
            "Building wheels for collected packages: pyperclip\n",
            "  Building wheel for pyperclip (setup.py) ... \u001b[?25l\u001b[?25hdone\n",
            "  Created wheel for pyperclip: filename=pyperclip-1.8.2-py3-none-any.whl size=11136 sha256=e350e2d8a21254e79f0e8289264ac06e1c3c108f7226f7b50472c681d2eb97fc\n",
            "  Stored in directory: /root/.cache/pip/wheels/7f/1a/65/84ff8c386bec21fca6d220ea1f5498a0367883a78dd5ba6122\n",
            "Successfully built pyperclip\n",
            "Installing collected packages: pyperclip, pbr, stevedore, Mako, importlib-metadata, cmd2, autopage, colorlog, cmaes, cliff, alembic, optuna\n",
            "  Attempting uninstall: importlib-metadata\n",
            "    Found existing installation: importlib-metadata 5.1.0\n",
            "    Uninstalling importlib-metadata-5.1.0:\n",
            "      Successfully uninstalled importlib-metadata-5.1.0\n",
            "Successfully installed Mako-1.2.4 alembic-1.9.0 autopage-0.5.1 cliff-4.1.0 cmaes-0.9.0 cmd2-2.4.2 colorlog-6.7.0 importlib-metadata-4.13.0 optuna-3.0.4 pbr-5.11.0 pyperclip-1.8.2 stevedore-4.1.1\n"
          ]
        }
      ]
    },
    {
      "cell_type": "code",
      "execution_count": 40,
      "metadata": {
        "id": "8E7-41LPKUbK"
      },
      "outputs": [],
      "source": [
        "# ライブラリの導入\n",
        "\n",
        "import numbers\n",
        "import numpy as np\n",
        "import pandas as pd\n",
        "\n",
        "import lightgbm as lgb\n",
        "from sklearn.model_selection import StratifiedKFold\n",
        "from sklearn.metrics import cohen_kappa_score\n",
        "import scipy as sp\n",
        "from functools import partial\n",
        "\n",
        "def adapt_labels(labels):\n",
        "  max_label = np.max(labels) # 2 or 4\n",
        "\n",
        "  if max_label == 2:\n",
        "    labels += 2\n",
        "  elif max_label == 4:\n",
        "    labels -= 2\n",
        "  else:\n",
        "    print('Exception error! please check with np.unique(labels).')\n",
        "  return labels"
      ]
    },
    {
      "cell_type": "code",
      "execution_count": 3,
      "metadata": {
        "colab": {
          "base_uri": "https://localhost:8080/"
        },
        "id": "aCZ4vc0aKi7U",
        "outputId": "f3e5d348-4203-4768-fa80-cf6e201c27a4"
      },
      "outputs": [
        {
          "output_type": "stream",
          "name": "stdout",
          "text": [
            "Mounted at /content/drive\n",
            "/content/drive/MyDrive/grad_comp\n"
          ]
        }
      ],
      "source": [
        "#ファイル\n",
        "from google.colab import drive\n",
        "drive.mount('/content/drive')\n",
        "%cd /content/drive/MyDrive/grad_comp"
      ]
    },
    {
      "cell_type": "markdown",
      "metadata": {
        "id": "yR-ilyOhYqf3"
      },
      "source": [
        "## load data"
      ]
    },
    {
      "cell_type": "code",
      "source": [
        "# preprocess path\n",
        "prepro = 'sudachi/C'\n",
        "# n_features = 10000"
      ],
      "metadata": {
        "id": "QFe589AeOKq-"
      },
      "execution_count": 4,
      "outputs": []
    },
    {
      "cell_type": "code",
      "execution_count": 5,
      "metadata": {
        "id": "KVsde0swXSGh",
        "colab": {
          "base_uri": "https://localhost:8080/"
        },
        "outputId": "768fb015-34f4-48e4-ac3a-4f5eaec6f810"
      },
      "outputs": [
        {
          "output_type": "stream",
          "name": "stdout",
          "text": [
            "[0. 1. 2. 3. 4.]\n",
            "[3543 5593 9227 7760 3877]\n"
          ]
        }
      ],
      "source": [
        "# data\n",
        "\n",
        "f = open('preprocess/' + prepro + '/text.prep_train.txt', 'r')\n",
        "train_data = f.read()\n",
        "train_data = train_data.split('\\n')\n",
        "del train_data[30000]\n",
        "#x_train = np.zeros((30000, len(res)))\n",
        "\n",
        "f = open('preprocess/' + prepro + '/text.prep_test.txt', 'r')\n",
        "test_data = f.read()\n",
        "test_data = test_data.split('\\n')\n",
        "del test_data[2500]\n",
        "#x_test = np.zeros((2500, len(res)))\n",
        "\n",
        "f = open('preprocess/' + prepro + '/text.prep_dev.txt', 'r')\n",
        "dev_data = f.read()\n",
        "dev_data = dev_data.split('\\n')\n",
        "del dev_data[2500]\n",
        "#x_dev = np.zeros((2500, len(res)))\n",
        "\n",
        "# label\n",
        "y_train = np.loadtxt('/content/drive/MyDrive/grad_comp/data/label.train.txt')\n",
        "y_dev = np.loadtxt('/content/drive/MyDrive/grad_comp/data/label.dev.txt')\n",
        "adapt_labels(y_train)\n",
        "adapt_labels(y_dev)\n",
        "\n",
        "u, counts = np.unique(y_train, return_counts=True)\n",
        "print(u)\n",
        "print(counts)"
      ]
    },
    {
      "cell_type": "markdown",
      "metadata": {
        "id": "23ItKZkxjUb5"
      },
      "source": [
        "## TF-IDF"
      ]
    },
    {
      "cell_type": "code",
      "execution_count": 6,
      "metadata": {
        "id": "8kDxXS3ZiN_W"
      },
      "outputs": [],
      "source": [
        "from sklearn.feature_extraction.text import TfidfVectorizer\n",
        "vectorizer = TfidfVectorizer()\n",
        "x_train = vectorizer.fit_transform(train_data)\n",
        "x_dev = vectorizer.transform(dev_data)\n",
        "x_test = vectorizer.transform(test_data)"
      ]
    },
    {
      "cell_type": "code",
      "execution_count": 7,
      "metadata": {
        "colab": {
          "base_uri": "https://localhost:8080/"
        },
        "id": "boxzOUleixqy",
        "outputId": "6ec402ef-041f-4532-ff04-c387cb576844"
      },
      "outputs": [
        {
          "output_type": "execute_result",
          "data": {
            "text/plain": [
              "(30000, 26803)"
            ]
          },
          "metadata": {},
          "execution_count": 7
        }
      ],
      "source": [
        "x_train.shape"
      ]
    },
    {
      "cell_type": "markdown",
      "source": [
        "QWK = 0.041  C = 0.01\n",
        "QWK = 0.210  C = 0.1\n",
        "QWK = 0.334  C = 1\n",
        "QWK = 0.324  C = 10\n",
        "QWK = 0.290  C = 100\n",
        "最適なハイパーパラメタは C = 1"
      ],
      "metadata": {
        "id": "DETFAKIhO17b"
      }
    },
    {
      "cell_type": "markdown",
      "source": [
        "## lightGBM"
      ],
      "metadata": {
        "id": "VxSvk1wtpSmH"
      }
    },
    {
      "cell_type": "code",
      "source": [
        "!pip install scipy==1.3.0\n",
        "import scipy as sp"
      ],
      "metadata": {
        "colab": {
          "base_uri": "https://localhost:8080/",
          "height": 565
        },
        "id": "guq3xJUUKyhZ",
        "outputId": "47a160b1-0211-49c1-8170-ee9fa2991186"
      },
      "execution_count": 83,
      "outputs": [
        {
          "output_type": "stream",
          "name": "stdout",
          "text": [
            "Looking in indexes: https://pypi.org/simple, https://us-python.pkg.dev/colab-wheels/public/simple/\n",
            "Collecting scipy==1.3.0\n",
            "  Downloading scipy-1.3.0.tar.gz (23.6 MB)\n",
            "\u001b[K     |████████████████████████████████| 23.6 MB 1.2 MB/s \n",
            "\u001b[?25h  Installing build dependencies ... \u001b[?25l\u001b[?25hdone\n",
            "  Getting requirements to build wheel ... \u001b[?25l\u001b[?25hdone\n",
            "    Preparing wheel metadata ... \u001b[?25l\u001b[?25hdone\n",
            "Building wheels for collected packages: scipy\n",
            "  Building wheel for scipy (PEP 517) ... \u001b[?25l\u001b[?25hdone\n",
            "  Created wheel for scipy: filename=scipy-1.3.0-cp38-cp38-linux_x86_64.whl size=43877168 sha256=04a23cebc77bce31e2d4a3957de61e5dd3ec00712db855d2f38ffcd761759d92\n",
            "  Stored in directory: /root/.cache/pip/wheels/2c/c1/a0/d7b4dc8a7b3c8e3cfa99b2098af0c94aadce5f5b516015d952\n",
            "Successfully built scipy\n",
            "Installing collected packages: scipy\n",
            "  Attempting uninstall: scipy\n",
            "    Found existing installation: scipy 1.7.3\n",
            "    Uninstalling scipy-1.7.3:\n",
            "      Successfully uninstalled scipy-1.7.3\n",
            "\u001b[31mERROR: pip's dependency resolver does not currently take into account all the packages that are installed. This behaviour is the source of the following dependency conflicts.\n",
            "xarray-einstats 0.4.0 requires scipy>=1.6, but you have scipy 1.3.0 which is incompatible.\n",
            "pymc 4.1.4 requires scipy>=1.4.1, but you have scipy 1.3.0 which is incompatible.\n",
            "plotnine 0.8.0 requires scipy>=1.5.0, but you have scipy 1.3.0 which is incompatible.\n",
            "optuna 3.0.4 requires scipy<1.9.0,>=1.7.0, but you have scipy 1.3.0 which is incompatible.\n",
            "jaxlib 0.3.25+cuda11.cudnn805 requires scipy>=1.5, but you have scipy 1.3.0 which is incompatible.\n",
            "jax 0.3.25 requires scipy>=1.5, but you have scipy 1.3.0 which is incompatible.\n",
            "aeppl 0.0.33 requires scipy>=1.4.0, but you have scipy 1.3.0 which is incompatible.\u001b[0m\n",
            "Successfully installed scipy-1.3.0\n"
          ]
        },
        {
          "output_type": "display_data",
          "data": {
            "application/vnd.colab-display-data+json": {
              "pip_warning": {
                "packages": [
                  "scipy"
                ]
              }
            }
          },
          "metadata": {}
        }
      ]
    },
    {
      "cell_type": "markdown",
      "source": [
        "You must restart the runtime in order to use newly installed versions."
      ],
      "metadata": {
        "id": "gpiAW_FJNN6T"
      }
    },
    {
      "cell_type": "code",
      "source": [
        "sp.version.full_version"
      ],
      "metadata": {
        "colab": {
          "base_uri": "https://localhost:8080/",
          "height": 37
        },
        "id": "qtZVNoykHr1A",
        "outputId": "42ee38cc-d379-4ea2-c902-9e599f825fd2"
      },
      "execution_count": 84,
      "outputs": [
        {
          "output_type": "execute_result",
          "data": {
            "text/plain": [
              "'1.7.3'"
            ],
            "application/vnd.google.colaboratory.intrinsic+json": {
              "type": "string"
            }
          },
          "metadata": {},
          "execution_count": 84
        }
      ]
    },
    {
      "cell_type": "code",
      "source": [
        "class OptimizedRounder(object):\n",
        "    def __init__(self):\n",
        "        self.coef_ = 0\n",
        "\n",
        "    def _kappa_loss(self, coef, X, y):\n",
        "        X_p = np.copy(X) # Xにも影響しないよう\n",
        "        for i, pred in enumerate(X_p):\n",
        "          # こちらはエラーなし\n",
        "            if pred < coef[0]:\n",
        "                X_p[i] = 0\n",
        "            elif pred >= coef[0] and pred < coef[1]:\n",
        "                X_p[i] = 1\n",
        "            elif pred >= coef[1] and pred < coef[2]:\n",
        "                X_p[i] = 2\n",
        "            elif pred >= coef[2] and pred < coef[3]:\n",
        "                X_p[i] = 3\n",
        "            else:\n",
        "                X_p[i] = 4\n",
        "        # ライブラリののqwkに変更\n",
        "        ll = cohen_kappa_score(y,X_p,weights='quadratic')\n",
        "        return -ll # optimize.minimizeより\n",
        "\n",
        "    # 閾値の最適化(nelder-mead法)\n",
        "    def fit(self, X, y):\n",
        "        loss_partial = partial(self._kappa_loss, X=X, y=y)\n",
        "        initial_coef = [0.5, 1.5, 2.5, 3.5]\n",
        "        x_qwk = sp.optimize.minimize(loss_partial, initial_coef,method='Nelder-Mead')\n",
        "        #print(x_qwk)\n",
        "        \n",
        "        self.coef_ = sp.optimize.minimize(loss_partial, initial_coef,method='Nelder-Mead')\n",
        "\n",
        "    def predict(self, X, coef):\n",
        "        X_p = np.copy(X)\n",
        "        for i, pred in enumerate(X_p):\n",
        "            if pred < coef[0]:\n",
        "                X_p[i] = 0\n",
        "            elif pred >= coef[0] and pred < coef[1]:\n",
        "                X_p[i] = 1\n",
        "            elif pred >= coef[1] and pred < coef[2]:\n",
        "                X_p[i] = 2\n",
        "            elif pred >= coef[2] and pred < coef[3]:\n",
        "                X_p[i] = 3\n",
        "            else:\n",
        "                X_p[i] = 4\n",
        "        return X_p\n",
        "\n",
        "    def coefficients(self):\n",
        "        return self.coef_['x']"
      ],
      "metadata": {
        "id": "4EvxjPiWC-Sk"
      },
      "execution_count": 80,
      "outputs": []
    },
    {
      "cell_type": "code",
      "source": [
        "def lgb_custom_metric_qwk_regression(preds, data):\n",
        "    \"\"\"LightGBM のカスタムメトリックを計算する関数\n",
        "\n",
        "    回帰問題として解いた予測から QWK を計算する\"\"\"\n",
        "    # 正解ラベル\n",
        "    y_true = data.get_label()\n",
        "    # 1:予測ラベル\n",
        "    #y_pred = np.clip(preds, 0, 7).round()  # 単純に予測値を clip して四捨五入する\n",
        "    # 2:予測ラベル(最適化)\n",
        "    optR = OptimizedRounder()\n",
        "    optR.fit(preds, y_true)\n",
        "    optimized = optR.predict(preds, optR.coefficients)\n",
        "    # QWK を計算する\n",
        "    return 'qwk', qwk(y_true, optimized), True\n",
        "\n",
        "# # 閾値の最適化\n",
        "# optR = OptimizedRounder()\n",
        "# optR.fit(regression_predictions, original_labels)\n",
        "# print(optR.coefficients)\n",
        "\n",
        "# optimized = optR.predict(regression_predictions, optR.coefficients)\n",
        "# # 最適化した値でqwk出力\n",
        "# optimized_qwk_dev = cohen_kappa_score(y_dev,optimized,weights='quadratic')\n",
        "# print(optimized_qwk_dev)\n",
        "\n",
        "def qwk(y_true, y_pred):\n",
        "    \"\"\"QWK (Quadratic Weighted Kappa) を計算する関数\"\"\"\n",
        "    return cohen_kappa_score(y_true, y_pred, weights='quadratic')"
      ],
      "metadata": {
        "id": "Bi_y0RtHv8Bz"
      },
      "execution_count": 81,
      "outputs": []
    },
    {
      "cell_type": "code",
      "source": [
        "# 検証用\n",
        "\n",
        "# Dataset形式に変換\n",
        "# train_set = lgb.Dataset(X_train, y_train)\n",
        "# dev_set = lgb.Dataset(X_dev, y_dev)\n",
        "\n",
        "params = {\n",
        "    \"objective\" : \"multiclass\",\n",
        "    \"metric\" : \"multi_logloss\",\n",
        "    \"num_class\" : 5\n",
        "}\n",
        "\n",
        "# # データセットを読み込む\n",
        "# train_df = pd.read_csv('train.csv.zip')\n",
        "\n",
        "# # 説明変数\n",
        "# x_train = train_df.drop('Response', axis=1)\n",
        "\n",
        "# # 目的変数\n",
        "# y_train = train_df.Response.astype(float)\n",
        "# # 目的変数はゼロからスタートにする\n",
        "# y_train -= 1\n",
        "\n",
        "# LightGBM のデータセット表現にする\n",
        "lgb_train = lgb.Dataset(x_train, y_train)\n",
        "\n",
        "# 回帰問題として解く\n",
        "lgbm_params = {\n",
        "    'objective': 'regression',\n",
        "    'metric': 'rmse',\n",
        "    'first_metric_only': True,\n",
        "    'verbose': -1, # 学習中のコマンドライン出力\n",
        "}\n",
        "\n",
        "# データ分割の方法\n",
        "folds = StratifiedKFold(n_splits=5, shuffle=True, random_state=42)\n",
        "\n",
        "# 5-Fold CV で検証する\n",
        "result = lgb.cv(lgbm_params,\n",
        "                lgb_train,\n",
        "                num_boost_round=1000,\n",
        "                early_stopping_rounds=100,\n",
        "                folds=folds,\n",
        "                verbose_eval=10,\n",
        "                feval=lgb_custom_metric_qwk_regression,\n",
        "                seed=42,\n",
        "                )\n",
        "\n",
        "# early stop したラウンドでの QWK を出力する\n",
        "print(f'CV Mean QWK: {result[\"qwk-mean\"][-1]}')"
      ],
      "metadata": {
        "colab": {
          "base_uri": "https://localhost:8080/",
          "height": 596
        },
        "id": "QK8n4mi8AQYu",
        "outputId": "896dc510-5fb4-49aa-f15b-ec199ffaa223"
      },
      "execution_count": 82,
      "outputs": [
        {
          "output_type": "stream",
          "name": "stdout",
          "text": [
            " final_simplex: (array([[0.5       , 1.5       , 2.5       , 3.5       ],\n",
            "       [0.50001221, 1.5       , 2.5       , 3.5       ],\n",
            "       [0.5       , 1.50003662, 2.5       , 3.5       ],\n",
            "       [0.5       , 1.5       , 2.50006104, 3.5       ],\n",
            "       [0.5       , 1.5       , 2.5       , 3.50008545]]), array([-0., -0., -0., -0., -0.]))\n",
            "           fun: -0.0\n",
            "       message: 'Optimization terminated successfully.'\n",
            "          nfev: 71\n",
            "           nit: 12\n",
            "        status: 0\n",
            "       success: True\n",
            "             x: array([0.5, 1.5, 2.5, 3.5])\n",
            "{}\n"
          ]
        },
        {
          "output_type": "error",
          "ename": "TypeError",
          "evalue": "ignored",
          "traceback": [
            "\u001b[0;31m---------------------------------------------------------------------------\u001b[0m",
            "\u001b[0;31mTypeError\u001b[0m                                 Traceback (most recent call last)",
            "\u001b[0;32m<ipython-input-82-d3bb995e3a12>\u001b[0m in \u001b[0;36m<module>\u001b[0;34m\u001b[0m\n\u001b[1;32m     37\u001b[0m \u001b[0;34m\u001b[0m\u001b[0m\n\u001b[1;32m     38\u001b[0m \u001b[0;31m# 5-Fold CV で検証する\u001b[0m\u001b[0;34m\u001b[0m\u001b[0;34m\u001b[0m\u001b[0;34m\u001b[0m\u001b[0m\n\u001b[0;32m---> 39\u001b[0;31m result = lgb.cv(lgbm_params,\n\u001b[0m\u001b[1;32m     40\u001b[0m                 \u001b[0mlgb_train\u001b[0m\u001b[0;34m,\u001b[0m\u001b[0;34m\u001b[0m\u001b[0;34m\u001b[0m\u001b[0m\n\u001b[1;32m     41\u001b[0m                 \u001b[0mnum_boost_round\u001b[0m\u001b[0;34m=\u001b[0m\u001b[0;36m1000\u001b[0m\u001b[0;34m,\u001b[0m\u001b[0;34m\u001b[0m\u001b[0;34m\u001b[0m\u001b[0m\n",
            "\u001b[0;32m/usr/local/lib/python3.8/dist-packages/lightgbm/engine.py\u001b[0m in \u001b[0;36mcv\u001b[0;34m(params, train_set, num_boost_round, folds, nfold, stratified, shuffle, metrics, fobj, feval, init_model, feature_name, categorical_feature, early_stopping_rounds, fpreproc, verbose_eval, show_stdv, seed, callbacks)\u001b[0m\n\u001b[1;32m    486\u001b[0m                                     evaluation_result_list=None))\n\u001b[1;32m    487\u001b[0m         \u001b[0mcvfolds\u001b[0m\u001b[0;34m.\u001b[0m\u001b[0mupdate\u001b[0m\u001b[0;34m(\u001b[0m\u001b[0mfobj\u001b[0m\u001b[0;34m=\u001b[0m\u001b[0mfobj\u001b[0m\u001b[0;34m)\u001b[0m\u001b[0;34m\u001b[0m\u001b[0;34m\u001b[0m\u001b[0m\n\u001b[0;32m--> 488\u001b[0;31m         \u001b[0mres\u001b[0m \u001b[0;34m=\u001b[0m \u001b[0m_agg_cv_result\u001b[0m\u001b[0;34m(\u001b[0m\u001b[0mcvfolds\u001b[0m\u001b[0;34m.\u001b[0m\u001b[0meval_valid\u001b[0m\u001b[0;34m(\u001b[0m\u001b[0mfeval\u001b[0m\u001b[0;34m)\u001b[0m\u001b[0;34m)\u001b[0m\u001b[0;34m\u001b[0m\u001b[0;34m\u001b[0m\u001b[0m\n\u001b[0m\u001b[1;32m    489\u001b[0m         \u001b[0;32mfor\u001b[0m \u001b[0m_\u001b[0m\u001b[0;34m,\u001b[0m \u001b[0mkey\u001b[0m\u001b[0;34m,\u001b[0m \u001b[0mmean\u001b[0m\u001b[0;34m,\u001b[0m \u001b[0m_\u001b[0m\u001b[0;34m,\u001b[0m \u001b[0mstd\u001b[0m \u001b[0;32min\u001b[0m \u001b[0mres\u001b[0m\u001b[0;34m:\u001b[0m\u001b[0;34m\u001b[0m\u001b[0;34m\u001b[0m\u001b[0m\n\u001b[1;32m    490\u001b[0m             \u001b[0mresults\u001b[0m\u001b[0;34m[\u001b[0m\u001b[0mkey\u001b[0m \u001b[0;34m+\u001b[0m \u001b[0;34m'-mean'\u001b[0m\u001b[0;34m]\u001b[0m\u001b[0;34m.\u001b[0m\u001b[0mappend\u001b[0m\u001b[0;34m(\u001b[0m\u001b[0mmean\u001b[0m\u001b[0;34m)\u001b[0m\u001b[0;34m\u001b[0m\u001b[0;34m\u001b[0m\u001b[0m\n",
            "\u001b[0;32m/usr/local/lib/python3.8/dist-packages/lightgbm/engine.py\u001b[0m in \u001b[0;36mhandler_function\u001b[0;34m(*args, **kwargs)\u001b[0m\n\u001b[1;32m    261\u001b[0m             \u001b[0mret\u001b[0m \u001b[0;34m=\u001b[0m \u001b[0;34m[\u001b[0m\u001b[0;34m]\u001b[0m\u001b[0;34m\u001b[0m\u001b[0;34m\u001b[0m\u001b[0m\n\u001b[1;32m    262\u001b[0m             \u001b[0;32mfor\u001b[0m \u001b[0mbooster\u001b[0m \u001b[0;32min\u001b[0m \u001b[0mself\u001b[0m\u001b[0;34m.\u001b[0m\u001b[0mboosters\u001b[0m\u001b[0;34m:\u001b[0m\u001b[0;34m\u001b[0m\u001b[0;34m\u001b[0m\u001b[0m\n\u001b[0;32m--> 263\u001b[0;31m                 \u001b[0mret\u001b[0m\u001b[0;34m.\u001b[0m\u001b[0mappend\u001b[0m\u001b[0;34m(\u001b[0m\u001b[0mgetattr\u001b[0m\u001b[0;34m(\u001b[0m\u001b[0mbooster\u001b[0m\u001b[0;34m,\u001b[0m \u001b[0mname\u001b[0m\u001b[0;34m)\u001b[0m\u001b[0;34m(\u001b[0m\u001b[0;34m*\u001b[0m\u001b[0margs\u001b[0m\u001b[0;34m,\u001b[0m \u001b[0;34m**\u001b[0m\u001b[0mkwargs\u001b[0m\u001b[0;34m)\u001b[0m\u001b[0;34m)\u001b[0m\u001b[0;34m\u001b[0m\u001b[0;34m\u001b[0m\u001b[0m\n\u001b[0m\u001b[1;32m    264\u001b[0m             \u001b[0;32mreturn\u001b[0m \u001b[0mret\u001b[0m\u001b[0;34m\u001b[0m\u001b[0;34m\u001b[0m\u001b[0m\n\u001b[1;32m    265\u001b[0m         \u001b[0;32mreturn\u001b[0m \u001b[0mhandler_function\u001b[0m\u001b[0;34m\u001b[0m\u001b[0;34m\u001b[0m\u001b[0m\n",
            "\u001b[0;32m/usr/local/lib/python3.8/dist-packages/lightgbm/basic.py\u001b[0m in \u001b[0;36meval_valid\u001b[0;34m(self, feval)\u001b[0m\n\u001b[1;32m   1975\u001b[0m             \u001b[0mList\u001b[0m \u001b[0;32mwith\u001b[0m \u001b[0mevaluation\u001b[0m \u001b[0mresults\u001b[0m\u001b[0;34m.\u001b[0m\u001b[0;34m\u001b[0m\u001b[0;34m\u001b[0m\u001b[0m\n\u001b[1;32m   1976\u001b[0m         \"\"\"\n\u001b[0;32m-> 1977\u001b[0;31m         return [item for i in range_(1, self.__num_dataset)\n\u001b[0m\u001b[1;32m   1978\u001b[0m                 for item in self.__inner_eval(self.name_valid_sets[i - 1], i, feval)]\n\u001b[1;32m   1979\u001b[0m \u001b[0;34m\u001b[0m\u001b[0m\n",
            "\u001b[0;32m/usr/local/lib/python3.8/dist-packages/lightgbm/basic.py\u001b[0m in \u001b[0;36m<listcomp>\u001b[0;34m(.0)\u001b[0m\n\u001b[1;32m   1976\u001b[0m         \"\"\"\n\u001b[1;32m   1977\u001b[0m         return [item for i in range_(1, self.__num_dataset)\n\u001b[0;32m-> 1978\u001b[0;31m                 for item in self.__inner_eval(self.name_valid_sets[i - 1], i, feval)]\n\u001b[0m\u001b[1;32m   1979\u001b[0m \u001b[0;34m\u001b[0m\u001b[0m\n\u001b[1;32m   1980\u001b[0m     \u001b[0;32mdef\u001b[0m \u001b[0msave_model\u001b[0m\u001b[0;34m(\u001b[0m\u001b[0mself\u001b[0m\u001b[0;34m,\u001b[0m \u001b[0mfilename\u001b[0m\u001b[0;34m,\u001b[0m \u001b[0mnum_iteration\u001b[0m\u001b[0;34m=\u001b[0m\u001b[0;32mNone\u001b[0m\u001b[0;34m,\u001b[0m \u001b[0mstart_iteration\u001b[0m\u001b[0;34m=\u001b[0m\u001b[0;36m0\u001b[0m\u001b[0;34m)\u001b[0m\u001b[0;34m:\u001b[0m\u001b[0;34m\u001b[0m\u001b[0;34m\u001b[0m\u001b[0m\n",
            "\u001b[0;32m/usr/local/lib/python3.8/dist-packages/lightgbm/basic.py\u001b[0m in \u001b[0;36m__inner_eval\u001b[0;34m(self, data_name, data_idx, feval)\u001b[0m\n\u001b[1;32m   2373\u001b[0m             \u001b[0;32melse\u001b[0m\u001b[0;34m:\u001b[0m\u001b[0;34m\u001b[0m\u001b[0;34m\u001b[0m\u001b[0m\n\u001b[1;32m   2374\u001b[0m                 \u001b[0mcur_data\u001b[0m \u001b[0;34m=\u001b[0m \u001b[0mself\u001b[0m\u001b[0;34m.\u001b[0m\u001b[0mvalid_sets\u001b[0m\u001b[0;34m[\u001b[0m\u001b[0mdata_idx\u001b[0m \u001b[0;34m-\u001b[0m \u001b[0;36m1\u001b[0m\u001b[0;34m]\u001b[0m\u001b[0;34m\u001b[0m\u001b[0;34m\u001b[0m\u001b[0m\n\u001b[0;32m-> 2375\u001b[0;31m             \u001b[0mfeval_ret\u001b[0m \u001b[0;34m=\u001b[0m \u001b[0mfeval\u001b[0m\u001b[0;34m(\u001b[0m\u001b[0mself\u001b[0m\u001b[0;34m.\u001b[0m\u001b[0m__inner_predict\u001b[0m\u001b[0;34m(\u001b[0m\u001b[0mdata_idx\u001b[0m\u001b[0;34m)\u001b[0m\u001b[0;34m,\u001b[0m \u001b[0mcur_data\u001b[0m\u001b[0;34m)\u001b[0m\u001b[0;34m\u001b[0m\u001b[0;34m\u001b[0m\u001b[0m\n\u001b[0m\u001b[1;32m   2376\u001b[0m             \u001b[0;32mif\u001b[0m \u001b[0misinstance\u001b[0m\u001b[0;34m(\u001b[0m\u001b[0mfeval_ret\u001b[0m\u001b[0;34m,\u001b[0m \u001b[0mlist\u001b[0m\u001b[0;34m)\u001b[0m\u001b[0;34m:\u001b[0m\u001b[0;34m\u001b[0m\u001b[0;34m\u001b[0m\u001b[0m\n\u001b[1;32m   2377\u001b[0m                 \u001b[0;32mfor\u001b[0m \u001b[0meval_name\u001b[0m\u001b[0;34m,\u001b[0m \u001b[0mval\u001b[0m\u001b[0;34m,\u001b[0m \u001b[0mis_higher_better\u001b[0m \u001b[0;32min\u001b[0m \u001b[0mfeval_ret\u001b[0m\u001b[0;34m:\u001b[0m\u001b[0;34m\u001b[0m\u001b[0;34m\u001b[0m\u001b[0m\n",
            "\u001b[0;32m<ipython-input-81-add192e65039>\u001b[0m in \u001b[0;36mlgb_custom_metric_qwk_regression\u001b[0;34m(preds, data)\u001b[0m\n\u001b[1;32m     10\u001b[0m     \u001b[0moptR\u001b[0m \u001b[0;34m=\u001b[0m \u001b[0mOptimizedRounder\u001b[0m\u001b[0;34m(\u001b[0m\u001b[0;34m)\u001b[0m\u001b[0;34m\u001b[0m\u001b[0;34m\u001b[0m\u001b[0m\n\u001b[1;32m     11\u001b[0m     \u001b[0moptR\u001b[0m\u001b[0;34m.\u001b[0m\u001b[0mfit\u001b[0m\u001b[0;34m(\u001b[0m\u001b[0mpreds\u001b[0m\u001b[0;34m,\u001b[0m \u001b[0my_true\u001b[0m\u001b[0;34m)\u001b[0m\u001b[0;34m\u001b[0m\u001b[0;34m\u001b[0m\u001b[0m\n\u001b[0;32m---> 12\u001b[0;31m     \u001b[0moptimized\u001b[0m \u001b[0;34m=\u001b[0m \u001b[0moptR\u001b[0m\u001b[0;34m.\u001b[0m\u001b[0mpredict\u001b[0m\u001b[0;34m(\u001b[0m\u001b[0mpreds\u001b[0m\u001b[0;34m,\u001b[0m \u001b[0moptR\u001b[0m\u001b[0;34m.\u001b[0m\u001b[0mcoefficients\u001b[0m\u001b[0;34m)\u001b[0m\u001b[0;34m\u001b[0m\u001b[0;34m\u001b[0m\u001b[0m\n\u001b[0m\u001b[1;32m     13\u001b[0m     \u001b[0;31m# QWK を計算する\u001b[0m\u001b[0;34m\u001b[0m\u001b[0;34m\u001b[0m\u001b[0;34m\u001b[0m\u001b[0m\n\u001b[1;32m     14\u001b[0m     \u001b[0;32mreturn\u001b[0m \u001b[0;34m'qwk'\u001b[0m\u001b[0;34m,\u001b[0m \u001b[0mqwk\u001b[0m\u001b[0;34m(\u001b[0m\u001b[0my_true\u001b[0m\u001b[0;34m,\u001b[0m \u001b[0moptimized\u001b[0m\u001b[0;34m)\u001b[0m\u001b[0;34m,\u001b[0m \u001b[0;32mTrue\u001b[0m\u001b[0;34m\u001b[0m\u001b[0;34m\u001b[0m\u001b[0m\n",
            "\u001b[0;32m<ipython-input-80-7d7fdd4715f9>\u001b[0m in \u001b[0;36mpredict\u001b[0;34m(self, X, coef)\u001b[0m\n\u001b[1;32m     33\u001b[0m         \u001b[0mX_p\u001b[0m \u001b[0;34m=\u001b[0m \u001b[0mnp\u001b[0m\u001b[0;34m.\u001b[0m\u001b[0mcopy\u001b[0m\u001b[0;34m(\u001b[0m\u001b[0mX\u001b[0m\u001b[0;34m)\u001b[0m\u001b[0;34m\u001b[0m\u001b[0;34m\u001b[0m\u001b[0m\n\u001b[1;32m     34\u001b[0m         \u001b[0;32mfor\u001b[0m \u001b[0mi\u001b[0m\u001b[0;34m,\u001b[0m \u001b[0mpred\u001b[0m \u001b[0;32min\u001b[0m \u001b[0menumerate\u001b[0m\u001b[0;34m(\u001b[0m\u001b[0mX_p\u001b[0m\u001b[0;34m)\u001b[0m\u001b[0;34m:\u001b[0m\u001b[0;34m\u001b[0m\u001b[0;34m\u001b[0m\u001b[0m\n\u001b[0;32m---> 35\u001b[0;31m             \u001b[0;32mif\u001b[0m \u001b[0mpred\u001b[0m \u001b[0;34m<\u001b[0m \u001b[0mcoef\u001b[0m\u001b[0;34m[\u001b[0m\u001b[0;36m0\u001b[0m\u001b[0;34m]\u001b[0m\u001b[0;34m:\u001b[0m\u001b[0;34m\u001b[0m\u001b[0;34m\u001b[0m\u001b[0m\n\u001b[0m\u001b[1;32m     36\u001b[0m                 \u001b[0mX_p\u001b[0m\u001b[0;34m[\u001b[0m\u001b[0mi\u001b[0m\u001b[0;34m]\u001b[0m \u001b[0;34m=\u001b[0m \u001b[0;36m0\u001b[0m\u001b[0;34m\u001b[0m\u001b[0;34m\u001b[0m\u001b[0m\n\u001b[1;32m     37\u001b[0m             \u001b[0;32melif\u001b[0m \u001b[0mpred\u001b[0m \u001b[0;34m>=\u001b[0m \u001b[0mcoef\u001b[0m\u001b[0;34m[\u001b[0m\u001b[0;36m0\u001b[0m\u001b[0;34m]\u001b[0m \u001b[0;32mand\u001b[0m \u001b[0mpred\u001b[0m \u001b[0;34m<\u001b[0m \u001b[0mcoef\u001b[0m\u001b[0;34m[\u001b[0m\u001b[0;36m1\u001b[0m\u001b[0;34m]\u001b[0m\u001b[0;34m:\u001b[0m\u001b[0;34m\u001b[0m\u001b[0;34m\u001b[0m\u001b[0m\n",
            "\u001b[0;31mTypeError\u001b[0m: 'method' object is not subscriptable"
          ]
        }
      ]
    },
    {
      "cell_type": "code",
      "source": [
        "# Dataset形式に変換\n",
        "# train_set = lgb.Dataset(X_train, y_train)\n",
        "# dev_set = lgb.Dataset(X_dev, y_dev)\n",
        "\n",
        "params = {\n",
        "    \"device\": \"gpu\",\n",
        "    \"objective\" : \"multiclass\",\n",
        "    \"metric\" : \"multi_logloss\",\n",
        "    \"num_class\" : 5\n",
        "}\n",
        "\n",
        "# # データセットを読み込む\n",
        "# train_df = pd.read_csv('train.csv.zip')\n",
        "\n",
        "# # 説明変数\n",
        "# x_train = train_df.drop('Response', axis=1)\n",
        "\n",
        "# # 目的変数\n",
        "# y_train = train_df.Response.astype(float)\n",
        "# # 目的変数はゼロからスタートにする\n",
        "# y_train -= 1\n",
        "\n",
        "# LightGBM のデータセット表現にする\n",
        "lgb_train = lgb.Dataset(x_train, y_train)\n",
        "\n",
        "# 回帰問題として解く\n",
        "lgbm_params = {\n",
        "    'objective': 'regression',\n",
        "    'metric': 'rmse',\n",
        "    'first_metric_only': True,\n",
        "    'verbose': -1, # 学習中のコマンドライン出力\n",
        "}\n",
        "\n",
        "# データ分割の方法\n",
        "folds = StratifiedKFold(n_splits=5, shuffle=True, random_state=42)\n",
        "\n",
        "# 5-Fold CV で検証する\n",
        "result = lgb.cv(lgbm_params,\n",
        "                lgb_train,\n",
        "                num_boost_round=1000,\n",
        "                early_stopping_rounds=100,\n",
        "                folds=folds,\n",
        "                verbose_eval=10,\n",
        "                feval=lgb_custom_metric_qwk_regression,\n",
        "                seed=42,\n",
        "                )\n",
        "\n",
        "# early stop したラウンドでの QWK を出力する\n",
        "print(f'CV Mean QWK: {result[\"qwk-mean\"][-1]}')"
      ],
      "metadata": {
        "colab": {
          "base_uri": "https://localhost:8080/",
          "height": 579
        },
        "id": "r27Z6S8vpQ82",
        "outputId": "00b86e85-fde1-4a6a-9dec-bdccd1788c13"
      },
      "execution_count": 27,
      "outputs": [
        {
          "output_type": "stream",
          "name": "stdout",
          "text": [
            " final_simplex: (array([[0.5       , 1.5       , 2.5       , 3.5       ],\n",
            "       [0.50001221, 1.5       , 2.5       , 3.5       ],\n",
            "       [0.5       , 1.50003662, 2.5       , 3.5       ],\n",
            "       [0.5       , 1.5       , 2.50006104, 3.5       ],\n",
            "       [0.5       , 1.5       , 2.5       , 3.50008545]]), array([-0., -0., -0., -0., -0.]))\n",
            "           fun: -0.0\n",
            "       message: 'Optimization terminated successfully.'\n",
            "          nfev: 71\n",
            "           nit: 12\n",
            "        status: 0\n",
            "       success: True\n",
            "             x: array([0.5, 1.5, 2.5, 3.5])\n"
          ]
        },
        {
          "output_type": "error",
          "ename": "TypeError",
          "evalue": "ignored",
          "traceback": [
            "\u001b[0;31m---------------------------------------------------------------------------\u001b[0m",
            "\u001b[0;31mTypeError\u001b[0m                                 Traceback (most recent call last)",
            "\u001b[0;32m<ipython-input-27-cc3d3ce2aa85>\u001b[0m in \u001b[0;36m<module>\u001b[0;34m\u001b[0m\n\u001b[1;32m     36\u001b[0m \u001b[0;34m\u001b[0m\u001b[0m\n\u001b[1;32m     37\u001b[0m \u001b[0;31m# 5-Fold CV で検証する\u001b[0m\u001b[0;34m\u001b[0m\u001b[0;34m\u001b[0m\u001b[0;34m\u001b[0m\u001b[0m\n\u001b[0;32m---> 38\u001b[0;31m result = lgb.cv(lgbm_params,\n\u001b[0m\u001b[1;32m     39\u001b[0m                 \u001b[0mlgb_train\u001b[0m\u001b[0;34m,\u001b[0m\u001b[0;34m\u001b[0m\u001b[0;34m\u001b[0m\u001b[0m\n\u001b[1;32m     40\u001b[0m                 \u001b[0mnum_boost_round\u001b[0m\u001b[0;34m=\u001b[0m\u001b[0;36m1000\u001b[0m\u001b[0;34m,\u001b[0m\u001b[0;34m\u001b[0m\u001b[0;34m\u001b[0m\u001b[0m\n",
            "\u001b[0;32m/usr/local/lib/python3.8/dist-packages/lightgbm/engine.py\u001b[0m in \u001b[0;36mcv\u001b[0;34m(params, train_set, num_boost_round, folds, nfold, stratified, shuffle, metrics, fobj, feval, init_model, feature_name, categorical_feature, early_stopping_rounds, fpreproc, verbose_eval, show_stdv, seed, callbacks)\u001b[0m\n\u001b[1;32m    486\u001b[0m                                     evaluation_result_list=None))\n\u001b[1;32m    487\u001b[0m         \u001b[0mcvfolds\u001b[0m\u001b[0;34m.\u001b[0m\u001b[0mupdate\u001b[0m\u001b[0;34m(\u001b[0m\u001b[0mfobj\u001b[0m\u001b[0;34m=\u001b[0m\u001b[0mfobj\u001b[0m\u001b[0;34m)\u001b[0m\u001b[0;34m\u001b[0m\u001b[0;34m\u001b[0m\u001b[0m\n\u001b[0;32m--> 488\u001b[0;31m         \u001b[0mres\u001b[0m \u001b[0;34m=\u001b[0m \u001b[0m_agg_cv_result\u001b[0m\u001b[0;34m(\u001b[0m\u001b[0mcvfolds\u001b[0m\u001b[0;34m.\u001b[0m\u001b[0meval_valid\u001b[0m\u001b[0;34m(\u001b[0m\u001b[0mfeval\u001b[0m\u001b[0;34m)\u001b[0m\u001b[0;34m)\u001b[0m\u001b[0;34m\u001b[0m\u001b[0;34m\u001b[0m\u001b[0m\n\u001b[0m\u001b[1;32m    489\u001b[0m         \u001b[0;32mfor\u001b[0m \u001b[0m_\u001b[0m\u001b[0;34m,\u001b[0m \u001b[0mkey\u001b[0m\u001b[0;34m,\u001b[0m \u001b[0mmean\u001b[0m\u001b[0;34m,\u001b[0m \u001b[0m_\u001b[0m\u001b[0;34m,\u001b[0m \u001b[0mstd\u001b[0m \u001b[0;32min\u001b[0m \u001b[0mres\u001b[0m\u001b[0;34m:\u001b[0m\u001b[0;34m\u001b[0m\u001b[0;34m\u001b[0m\u001b[0m\n\u001b[1;32m    490\u001b[0m             \u001b[0mresults\u001b[0m\u001b[0;34m[\u001b[0m\u001b[0mkey\u001b[0m \u001b[0;34m+\u001b[0m \u001b[0;34m'-mean'\u001b[0m\u001b[0;34m]\u001b[0m\u001b[0;34m.\u001b[0m\u001b[0mappend\u001b[0m\u001b[0;34m(\u001b[0m\u001b[0mmean\u001b[0m\u001b[0;34m)\u001b[0m\u001b[0;34m\u001b[0m\u001b[0;34m\u001b[0m\u001b[0m\n",
            "\u001b[0;32m/usr/local/lib/python3.8/dist-packages/lightgbm/engine.py\u001b[0m in \u001b[0;36mhandler_function\u001b[0;34m(*args, **kwargs)\u001b[0m\n\u001b[1;32m    261\u001b[0m             \u001b[0mret\u001b[0m \u001b[0;34m=\u001b[0m \u001b[0;34m[\u001b[0m\u001b[0;34m]\u001b[0m\u001b[0;34m\u001b[0m\u001b[0;34m\u001b[0m\u001b[0m\n\u001b[1;32m    262\u001b[0m             \u001b[0;32mfor\u001b[0m \u001b[0mbooster\u001b[0m \u001b[0;32min\u001b[0m \u001b[0mself\u001b[0m\u001b[0;34m.\u001b[0m\u001b[0mboosters\u001b[0m\u001b[0;34m:\u001b[0m\u001b[0;34m\u001b[0m\u001b[0;34m\u001b[0m\u001b[0m\n\u001b[0;32m--> 263\u001b[0;31m                 \u001b[0mret\u001b[0m\u001b[0;34m.\u001b[0m\u001b[0mappend\u001b[0m\u001b[0;34m(\u001b[0m\u001b[0mgetattr\u001b[0m\u001b[0;34m(\u001b[0m\u001b[0mbooster\u001b[0m\u001b[0;34m,\u001b[0m \u001b[0mname\u001b[0m\u001b[0;34m)\u001b[0m\u001b[0;34m(\u001b[0m\u001b[0;34m*\u001b[0m\u001b[0margs\u001b[0m\u001b[0;34m,\u001b[0m \u001b[0;34m**\u001b[0m\u001b[0mkwargs\u001b[0m\u001b[0;34m)\u001b[0m\u001b[0;34m)\u001b[0m\u001b[0;34m\u001b[0m\u001b[0;34m\u001b[0m\u001b[0m\n\u001b[0m\u001b[1;32m    264\u001b[0m             \u001b[0;32mreturn\u001b[0m \u001b[0mret\u001b[0m\u001b[0;34m\u001b[0m\u001b[0;34m\u001b[0m\u001b[0m\n\u001b[1;32m    265\u001b[0m         \u001b[0;32mreturn\u001b[0m \u001b[0mhandler_function\u001b[0m\u001b[0;34m\u001b[0m\u001b[0;34m\u001b[0m\u001b[0m\n",
            "\u001b[0;32m/usr/local/lib/python3.8/dist-packages/lightgbm/basic.py\u001b[0m in \u001b[0;36meval_valid\u001b[0;34m(self, feval)\u001b[0m\n\u001b[1;32m   1975\u001b[0m             \u001b[0mList\u001b[0m \u001b[0;32mwith\u001b[0m \u001b[0mevaluation\u001b[0m \u001b[0mresults\u001b[0m\u001b[0;34m.\u001b[0m\u001b[0;34m\u001b[0m\u001b[0;34m\u001b[0m\u001b[0m\n\u001b[1;32m   1976\u001b[0m         \"\"\"\n\u001b[0;32m-> 1977\u001b[0;31m         return [item for i in range_(1, self.__num_dataset)\n\u001b[0m\u001b[1;32m   1978\u001b[0m                 for item in self.__inner_eval(self.name_valid_sets[i - 1], i, feval)]\n\u001b[1;32m   1979\u001b[0m \u001b[0;34m\u001b[0m\u001b[0m\n",
            "\u001b[0;32m/usr/local/lib/python3.8/dist-packages/lightgbm/basic.py\u001b[0m in \u001b[0;36m<listcomp>\u001b[0;34m(.0)\u001b[0m\n\u001b[1;32m   1976\u001b[0m         \"\"\"\n\u001b[1;32m   1977\u001b[0m         return [item for i in range_(1, self.__num_dataset)\n\u001b[0;32m-> 1978\u001b[0;31m                 for item in self.__inner_eval(self.name_valid_sets[i - 1], i, feval)]\n\u001b[0m\u001b[1;32m   1979\u001b[0m \u001b[0;34m\u001b[0m\u001b[0m\n\u001b[1;32m   1980\u001b[0m     \u001b[0;32mdef\u001b[0m \u001b[0msave_model\u001b[0m\u001b[0;34m(\u001b[0m\u001b[0mself\u001b[0m\u001b[0;34m,\u001b[0m \u001b[0mfilename\u001b[0m\u001b[0;34m,\u001b[0m \u001b[0mnum_iteration\u001b[0m\u001b[0;34m=\u001b[0m\u001b[0;32mNone\u001b[0m\u001b[0;34m,\u001b[0m \u001b[0mstart_iteration\u001b[0m\u001b[0;34m=\u001b[0m\u001b[0;36m0\u001b[0m\u001b[0;34m)\u001b[0m\u001b[0;34m:\u001b[0m\u001b[0;34m\u001b[0m\u001b[0;34m\u001b[0m\u001b[0m\n",
            "\u001b[0;32m/usr/local/lib/python3.8/dist-packages/lightgbm/basic.py\u001b[0m in \u001b[0;36m__inner_eval\u001b[0;34m(self, data_name, data_idx, feval)\u001b[0m\n\u001b[1;32m   2373\u001b[0m             \u001b[0;32melse\u001b[0m\u001b[0;34m:\u001b[0m\u001b[0;34m\u001b[0m\u001b[0;34m\u001b[0m\u001b[0m\n\u001b[1;32m   2374\u001b[0m                 \u001b[0mcur_data\u001b[0m \u001b[0;34m=\u001b[0m \u001b[0mself\u001b[0m\u001b[0;34m.\u001b[0m\u001b[0mvalid_sets\u001b[0m\u001b[0;34m[\u001b[0m\u001b[0mdata_idx\u001b[0m \u001b[0;34m-\u001b[0m \u001b[0;36m1\u001b[0m\u001b[0;34m]\u001b[0m\u001b[0;34m\u001b[0m\u001b[0;34m\u001b[0m\u001b[0m\n\u001b[0;32m-> 2375\u001b[0;31m             \u001b[0mfeval_ret\u001b[0m \u001b[0;34m=\u001b[0m \u001b[0mfeval\u001b[0m\u001b[0;34m(\u001b[0m\u001b[0mself\u001b[0m\u001b[0;34m.\u001b[0m\u001b[0m__inner_predict\u001b[0m\u001b[0;34m(\u001b[0m\u001b[0mdata_idx\u001b[0m\u001b[0;34m)\u001b[0m\u001b[0;34m,\u001b[0m \u001b[0mcur_data\u001b[0m\u001b[0;34m)\u001b[0m\u001b[0;34m\u001b[0m\u001b[0;34m\u001b[0m\u001b[0m\n\u001b[0m\u001b[1;32m   2376\u001b[0m             \u001b[0;32mif\u001b[0m \u001b[0misinstance\u001b[0m\u001b[0;34m(\u001b[0m\u001b[0mfeval_ret\u001b[0m\u001b[0;34m,\u001b[0m \u001b[0mlist\u001b[0m\u001b[0;34m)\u001b[0m\u001b[0;34m:\u001b[0m\u001b[0;34m\u001b[0m\u001b[0;34m\u001b[0m\u001b[0m\n\u001b[1;32m   2377\u001b[0m                 \u001b[0;32mfor\u001b[0m \u001b[0meval_name\u001b[0m\u001b[0;34m,\u001b[0m \u001b[0mval\u001b[0m\u001b[0;34m,\u001b[0m \u001b[0mis_higher_better\u001b[0m \u001b[0;32min\u001b[0m \u001b[0mfeval_ret\u001b[0m\u001b[0;34m:\u001b[0m\u001b[0;34m\u001b[0m\u001b[0;34m\u001b[0m\u001b[0m\n",
            "\u001b[0;32m<ipython-input-10-add192e65039>\u001b[0m in \u001b[0;36mlgb_custom_metric_qwk_regression\u001b[0;34m(preds, data)\u001b[0m\n\u001b[1;32m     10\u001b[0m     \u001b[0moptR\u001b[0m \u001b[0;34m=\u001b[0m \u001b[0mOptimizedRounder\u001b[0m\u001b[0;34m(\u001b[0m\u001b[0;34m)\u001b[0m\u001b[0;34m\u001b[0m\u001b[0;34m\u001b[0m\u001b[0m\n\u001b[1;32m     11\u001b[0m     \u001b[0moptR\u001b[0m\u001b[0;34m.\u001b[0m\u001b[0mfit\u001b[0m\u001b[0;34m(\u001b[0m\u001b[0mpreds\u001b[0m\u001b[0;34m,\u001b[0m \u001b[0my_true\u001b[0m\u001b[0;34m)\u001b[0m\u001b[0;34m\u001b[0m\u001b[0;34m\u001b[0m\u001b[0m\n\u001b[0;32m---> 12\u001b[0;31m     \u001b[0moptimized\u001b[0m \u001b[0;34m=\u001b[0m \u001b[0moptR\u001b[0m\u001b[0;34m.\u001b[0m\u001b[0mpredict\u001b[0m\u001b[0;34m(\u001b[0m\u001b[0mpreds\u001b[0m\u001b[0;34m,\u001b[0m \u001b[0moptR\u001b[0m\u001b[0;34m.\u001b[0m\u001b[0mcoefficients\u001b[0m\u001b[0;34m)\u001b[0m\u001b[0;34m\u001b[0m\u001b[0;34m\u001b[0m\u001b[0m\n\u001b[0m\u001b[1;32m     13\u001b[0m     \u001b[0;31m# QWK を計算する\u001b[0m\u001b[0;34m\u001b[0m\u001b[0;34m\u001b[0m\u001b[0;34m\u001b[0m\u001b[0m\n\u001b[1;32m     14\u001b[0m     \u001b[0;32mreturn\u001b[0m \u001b[0;34m'qwk'\u001b[0m\u001b[0;34m,\u001b[0m \u001b[0mqwk\u001b[0m\u001b[0;34m(\u001b[0m\u001b[0my_true\u001b[0m\u001b[0;34m,\u001b[0m \u001b[0moptimized\u001b[0m\u001b[0;34m)\u001b[0m\u001b[0;34m,\u001b[0m \u001b[0;32mTrue\u001b[0m\u001b[0;34m\u001b[0m\u001b[0;34m\u001b[0m\u001b[0m\n",
            "\u001b[0;32m<ipython-input-26-dceb693089ae>\u001b[0m in \u001b[0;36mpredict\u001b[0;34m(self, X, coef)\u001b[0m\n\u001b[1;32m     53\u001b[0m         \u001b[0mX_p\u001b[0m \u001b[0;34m=\u001b[0m \u001b[0mnp\u001b[0m\u001b[0;34m.\u001b[0m\u001b[0mcopy\u001b[0m\u001b[0;34m(\u001b[0m\u001b[0mX\u001b[0m\u001b[0;34m)\u001b[0m\u001b[0;34m\u001b[0m\u001b[0;34m\u001b[0m\u001b[0m\n\u001b[1;32m     54\u001b[0m         \u001b[0;32mfor\u001b[0m \u001b[0mi\u001b[0m\u001b[0;34m,\u001b[0m \u001b[0mpred\u001b[0m \u001b[0;32min\u001b[0m \u001b[0menumerate\u001b[0m\u001b[0;34m(\u001b[0m\u001b[0mX_p\u001b[0m\u001b[0;34m)\u001b[0m\u001b[0;34m:\u001b[0m\u001b[0;34m\u001b[0m\u001b[0;34m\u001b[0m\u001b[0m\n\u001b[0;32m---> 55\u001b[0;31m             \u001b[0;32mif\u001b[0m \u001b[0mpred\u001b[0m \u001b[0;34m<\u001b[0m \u001b[0mcoef\u001b[0m\u001b[0;34m[\u001b[0m\u001b[0;36m0\u001b[0m\u001b[0;34m]\u001b[0m\u001b[0;34m:\u001b[0m\u001b[0;34m\u001b[0m\u001b[0;34m\u001b[0m\u001b[0m\n\u001b[0m\u001b[1;32m     56\u001b[0m                 \u001b[0mX_p\u001b[0m\u001b[0;34m[\u001b[0m\u001b[0mi\u001b[0m\u001b[0;34m]\u001b[0m \u001b[0;34m=\u001b[0m \u001b[0;36m0\u001b[0m\u001b[0;34m\u001b[0m\u001b[0;34m\u001b[0m\u001b[0m\n\u001b[1;32m     57\u001b[0m             \u001b[0;32melif\u001b[0m \u001b[0mpred\u001b[0m \u001b[0;34m>=\u001b[0m \u001b[0mcoef\u001b[0m\u001b[0;34m[\u001b[0m\u001b[0;36m0\u001b[0m\u001b[0;34m]\u001b[0m \u001b[0;32mand\u001b[0m \u001b[0mpred\u001b[0m \u001b[0;34m<\u001b[0m \u001b[0mcoef\u001b[0m\u001b[0;34m[\u001b[0m\u001b[0;36m1\u001b[0m\u001b[0;34m]\u001b[0m\u001b[0;34m:\u001b[0m\u001b[0;34m\u001b[0m\u001b[0;34m\u001b[0m\u001b[0m\n",
            "\u001b[0;31mTypeError\u001b[0m: 'method' object is not subscriptable"
          ]
        }
      ]
    },
    {
      "cell_type": "markdown",
      "source": [
        "non optimizer\n",
        "[10]\tcv_agg's rmse: 1.1306 + 0.00219238\tcv_agg's qwk: 0.093538 + 0.00473876\n",
        "[20]\tcv_agg's rmse: 1.10722 + 0.00316532\tcv_agg's qwk: 0.14753 + 0.00792863\n",
        "[30]\tcv_agg's rmse: 1.09398 + 0.00297894\tcv_agg's qwk: 0.189634 + 0.00754283\n",
        "[40]\tcv_agg's rmse: 1.08554 + 0.00290599\tcv_agg's qwk: 0.22336 + 0.00342504\n",
        "[50]\tcv_agg's rmse: 1.07955 + 0.00305654\tcv_agg's qwk: 0.240559 + 0.00416166\n",
        "[60]\tcv_agg's rmse: 1.07542 + 0.00269958\tcv_agg's qwk: 0.255057 + 0.0050241\n",
        "[70]\tcv_agg's rmse: 1.07217 + 0.00280997\tcv_agg's qwk: 0.265979 + 0.00527485\n",
        "[80]\tcv_agg's rmse: 1.06975 + 0.00291788\tcv_agg's qwk: 0.274272 + 0.00731139\n",
        "[90]\tcv_agg's rmse: 1.06779 + 0.00271506\tcv_agg's qwk: 0.282002 + 0.00850304\n",
        "[100]\tcv_agg's rmse: 1.06637 + 0.00274278\tcv_agg's qwk: 0.288859 + 0.00906319\n",
        "[110]\tcv_agg's rmse: 1.0653 + 0.00272203\tcv_agg's qwk: 0.293129 + 0.00809321\n",
        "[120]\tcv_agg's rmse: 1.06448 + 0.00291496\tcv_agg's qwk: 0.297944 + 0.00914024\n",
        "[130]\tcv_agg's rmse: 1.06359 + 0.00308441\tcv_agg's qwk: 0.302275 + 0.00884944\n",
        "[140]\tcv_agg's rmse: 1.0633 + 0.00296652\tcv_agg's qwk: 0.305308 + 0.00927883\n",
        "[150]\tcv_agg's rmse: 1.06284 + 0.00300857\tcv_agg's qwk: 0.308474 + 0.00910171\n",
        "[160]\tcv_agg's rmse: 1.0622 + 0.00300849\tcv_agg's qwk: 0.3123 + 0.0090972\n",
        "[170]\tcv_agg's rmse: 1.06207 + 0.00317831\tcv_agg's qwk: 0.316603 + 0.00880866\n",
        "[180]\tcv_agg's rmse: 1.06201 + 0.00327053\tcv_agg's qwk: 0.320307 + 0.0107394\n",
        "[190]\tcv_agg's rmse: 1.06203 + 0.00345727\tcv_agg's qwk: 0.322476 + 0.0110931\n",
        "[200]\tcv_agg's rmse: 1.06208 + 0.00346878\tcv_agg's qwk: 0.324237 + 0.0111002\n",
        "[210]\tcv_agg's rmse: 1.06205 + 0.00352508\tcv_agg's qwk: 0.325391 + 0.00950517\n",
        "[220]\tcv_agg's rmse: 1.06203 + 0.00353636\tcv_agg's qwk: 0.326758 + 0.00771311\n",
        "[230]\tcv_agg's rmse: 1.06227 + 0.00354542\tcv_agg's qwk: 0.328505 + 0.00745911\n",
        "[240]\tcv_agg's rmse: 1.06224 + 0.00360543\tcv_agg's qwk: 0.330838 + 0.00779444\n",
        "[250]\tcv_agg's rmse: 1.06242 + 0.00380436\tcv_agg's qwk: 0.332008 + 0.00753289\n",
        "[260]\tcv_agg's rmse: 1.06266 + 0.00373026\tcv_agg's qwk: 0.332632 + 0.00730913\n",
        "[270]\tcv_agg's rmse: 1.06282 + 0.00372533\tcv_agg's qwk: 0.334488 + 0.00657479\n",
        "CV Mean QWK: 0.31870013389412544"
      ],
      "metadata": {
        "id": "NL9f7yZV5Ink"
      }
    },
    {
      "cell_type": "code",
      "source": [
        "# 閾値の最適化\n",
        "optR = OptimizedRounder()\n",
        "optR.fit(regression_predictions, original_labels)\n",
        "print(optR.coefficients)\n",
        "\n",
        "optimized = optR.predict(regression_predictions, optR.coefficients)\n",
        "# 最適化した値でqwk出力\n",
        "optimized_qwk_dev = cohen_kappa_score(y_dev,optimized,weights='quadratic')\n",
        "print(optimized_qwk_dev)"
      ],
      "metadata": {
        "id": "Xy7RaXZRzfcY"
      },
      "execution_count": null,
      "outputs": []
    },
    {
      "cell_type": "code",
      "execution_count": 8,
      "metadata": {
        "colab": {
          "base_uri": "https://localhost:8080/"
        },
        "id": "KxhFkXDcjDF0",
        "outputId": "9228961f-f25d-4425-def5-92f5658be069"
      },
      "outputs": [
        {
          "output_type": "stream",
          "name": "stdout",
          "text": [
            "QWK = 0.330  C = 1\n",
            "QWK = 0.338  C = 5\n",
            "QWK = 0.324  C = 10\n",
            "QWK = 0.299  C = 50\n",
            "最適なハイパーパラメタは C = 5\n"
          ]
        }
      ],
      "source": [
        "# best_qwk = 0\n",
        "# best_c = 1\n",
        "# for c in [1, 5,10, 50]:\n",
        "#     model = LogisticRegression(C=c, random_state=0,max_iter=1500)\n",
        "#     model.fit(X_train, y_train)\n",
        "#     y_pred = model.predict(X_dev)\n",
        "#     qwk = cohen_kappa_score(y_dev,y_pred, weights='quadratic')\n",
        "#     if qwk > best_qwk:\n",
        "#         best_qwk = qwk\n",
        "#         best_c = c\n",
        "#     print(\"QWK = %.3f  C = %s\" % (qwk, str(c)))\n",
        "# print(\"最適なハイパーパラメタは C = %s\" % str(best_c))\n",
        "\n",
        "\n",
        "# model = LogisticRegression(C=best_c, random_state=0,max_iter=1500)\n",
        "# model.fit(X_train, y_train)\n",
        "# y_preds = model.predict(X_test)\n",
        "\n",
        "# y_preds -= 2\n",
        "# with open('src/' + prepro + '/eval.txt','w') as f:\n",
        "#   for y_pred in y_preds:\n",
        "#     y_pred = int(y_pred)\n",
        "#     y_pred = str(y_pred)\n",
        "#     f.write(y_pred + '\\n')"
      ]
    },
    {
      "cell_type": "markdown",
      "source": [
        "-2 origin(nagisa)\n",
        "QWK = 0.329  C = 1\n",
        "QWK = 0.339  C = 5\n",
        "QWK = 0.333  C = 10\n",
        "QWK = 0.294  C = 50\n",
        "最適なハイパーパラメタは C = 5\n",
        "\n",
        "0 origin(顔文字あり)\n"
      ],
      "metadata": {
        "id": "ige15K_9gPx8"
      }
    },
    {
      "cell_type": "code",
      "source": [
        "print(f'最適なハイパラ C = {str(best_c)} : {prepro}')"
      ],
      "metadata": {
        "colab": {
          "base_uri": "https://localhost:8080/"
        },
        "id": "S5yihapoiKnI",
        "outputId": "71357766-d70f-4a7d-eba2-1d49b0a6dfba"
      },
      "execution_count": 14,
      "outputs": [
        {
          "output_type": "stream",
          "name": "stdout",
          "text": [
            "最適なハイパラ C = 5 : sudachi/C\n"
          ]
        }
      ]
    },
    {
      "cell_type": "markdown",
      "source": [
        "## submit"
      ],
      "metadata": {
        "id": "fqXTzbmQs_Cu"
      }
    },
    {
      "cell_type": "code",
      "source": [
        "y_preds = model.predict(X_test)\n",
        "\n",
        "with open('src/' + prepro + '/eval.txt','w') as f:\n",
        "  for y_pred in y_preds:\n",
        "    y_pred = int(y_pred)\n",
        "    y_pred = str(y_pred)\n",
        "    f.write(y_pred + '\\n')"
      ],
      "metadata": {
        "id": "DRUjg9dNjFpM"
      },
      "execution_count": null,
      "outputs": []
    },
    {
      "cell_type": "code",
      "source": [],
      "metadata": {
        "id": "ZthvHR_3meJ8"
      },
      "execution_count": null,
      "outputs": []
    }
  ],
  "metadata": {
    "colab": {
      "provenance": []
    },
    "kernelspec": {
      "display_name": "Python 3.8.8 ('py37')",
      "language": "python",
      "name": "python3"
    },
    "language_info": {
      "name": "python",
      "version": "3.8.8"
    },
    "vscode": {
      "interpreter": {
        "hash": "0bbcfcc1b2607f9590d16c6d822fed489540cbd3ba0db4dddb602648fbc29ae6"
      }
    }
  },
  "nbformat": 4,
  "nbformat_minor": 0
}