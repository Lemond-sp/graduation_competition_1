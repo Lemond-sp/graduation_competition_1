{
  "cells": [
    {
      "attachments": {},
      "cell_type": "markdown",
      "metadata": {},
      "source": [
        "## 第一回卒論コンペ"
      ]
    },
    {
      "attachments": {},
      "cell_type": "markdown",
      "metadata": {},
      "source": [
        "### 解法\n",
        "\n",
        "1.tokenizer : sudachi(A) dict-small\n",
        "\n",
        "2.preprocess : tokenizer + neologdn + normalize number\n",
        "\n",
        "3.model : lightGBM(Regression) + change parameters + ensemble\n",
        "\n",
        "4.result : 50.4(single) → 51.0(ensemble)"
      ]
    },
    {
      "cell_type": "markdown",
      "metadata": {
        "id": "U4T0YXoFIOHs"
      },
      "source": [
        "https://zenn.dev/wsuzume/books/66b6fe7bb537b3e2b4bb/viewer/4b769d\n",
        "\n"
      ]
    },
    {
      "cell_type": "code",
      "execution_count": 3,
      "metadata": {
        "colab": {
          "base_uri": "https://localhost:8080/"
        },
        "id": "TGQTXHP2RQkO",
        "outputId": "33ecf37d-4e4e-40c4-fa71-99b584b155a1"
      },
      "outputs": [
        {
          "name": "stdout",
          "output_type": "stream",
          "text": [
            "Looking in indexes: https://pypi.org/simple, https://us-python.pkg.dev/colab-wheels/public/simple/\n",
            "Collecting optuna\n",
            "  Downloading optuna-3.0.5-py3-none-any.whl (348 kB)\n",
            "\u001b[K     |████████████████████████████████| 348 kB 15.2 MB/s \n",
            "\u001b[?25hCollecting cliff\n",
            "  Downloading cliff-4.1.0-py3-none-any.whl (81 kB)\n",
            "\u001b[K     |████████████████████████████████| 81 kB 10.0 MB/s \n",
            "\u001b[?25hRequirement already satisfied: PyYAML in /usr/local/lib/python3.8/dist-packages (from optuna) (6.0)\n",
            "Requirement already satisfied: scipy<1.9.0,>=1.7.0 in /usr/local/lib/python3.8/dist-packages (from optuna) (1.7.3)\n",
            "Collecting alembic>=1.5.0\n",
            "  Downloading alembic-1.9.1-py3-none-any.whl (210 kB)\n",
            "\u001b[K     |████████████████████████████████| 210 kB 90.0 MB/s \n",
            "\u001b[?25hRequirement already satisfied: sqlalchemy>=1.3.0 in /usr/local/lib/python3.8/dist-packages (from optuna) (1.4.45)\n",
            "Requirement already satisfied: packaging>=20.0 in /usr/local/lib/python3.8/dist-packages (from optuna) (21.3)\n",
            "Requirement already satisfied: tqdm in /usr/local/lib/python3.8/dist-packages (from optuna) (4.64.1)\n",
            "Collecting importlib-metadata<5.0.0\n",
            "  Downloading importlib_metadata-4.13.0-py3-none-any.whl (23 kB)\n",
            "Requirement already satisfied: numpy in /usr/local/lib/python3.8/dist-packages (from optuna) (1.21.6)\n",
            "Collecting cmaes>=0.8.2\n",
            "  Downloading cmaes-0.9.0-py3-none-any.whl (23 kB)\n",
            "Collecting colorlog\n",
            "  Downloading colorlog-6.7.0-py2.py3-none-any.whl (11 kB)\n",
            "Requirement already satisfied: importlib-resources in /usr/local/lib/python3.8/dist-packages (from alembic>=1.5.0->optuna) (5.10.1)\n",
            "Collecting Mako\n",
            "  Downloading Mako-1.2.4-py3-none-any.whl (78 kB)\n",
            "\u001b[K     |████████████████████████████████| 78 kB 7.4 MB/s \n",
            "\u001b[?25hRequirement already satisfied: zipp>=0.5 in /usr/local/lib/python3.8/dist-packages (from importlib-metadata<5.0.0->optuna) (3.11.0)\n",
            "Requirement already satisfied: pyparsing!=3.0.5,>=2.0.2 in /usr/local/lib/python3.8/dist-packages (from packaging>=20.0->optuna) (3.0.9)\n",
            "Requirement already satisfied: greenlet!=0.4.17 in /usr/local/lib/python3.8/dist-packages (from sqlalchemy>=1.3.0->optuna) (2.0.1)\n",
            "Collecting autopage>=0.4.0\n",
            "  Downloading autopage-0.5.1-py3-none-any.whl (29 kB)\n",
            "Requirement already satisfied: PrettyTable>=0.7.2 in /usr/local/lib/python3.8/dist-packages (from cliff->optuna) (3.5.0)\n",
            "Collecting stevedore>=2.0.1\n",
            "  Downloading stevedore-4.1.1-py3-none-any.whl (50 kB)\n",
            "\u001b[K     |████████████████████████████████| 50 kB 6.9 MB/s \n",
            "\u001b[?25hCollecting cmd2>=1.0.0\n",
            "  Downloading cmd2-2.4.2-py3-none-any.whl (147 kB)\n",
            "\u001b[K     |████████████████████████████████| 147 kB 84.0 MB/s \n",
            "\u001b[?25hRequirement already satisfied: attrs>=16.3.0 in /usr/local/lib/python3.8/dist-packages (from cmd2>=1.0.0->cliff->optuna) (22.1.0)\n",
            "Requirement already satisfied: wcwidth>=0.1.7 in /usr/local/lib/python3.8/dist-packages (from cmd2>=1.0.0->cliff->optuna) (0.2.5)\n",
            "Collecting pyperclip>=1.6\n",
            "  Downloading pyperclip-1.8.2.tar.gz (20 kB)\n",
            "Collecting pbr!=2.1.0,>=2.0.0\n",
            "  Downloading pbr-5.11.0-py2.py3-none-any.whl (112 kB)\n",
            "\u001b[K     |████████████████████████████████| 112 kB 54.6 MB/s \n",
            "\u001b[?25hRequirement already satisfied: MarkupSafe>=0.9.2 in /usr/local/lib/python3.8/dist-packages (from Mako->alembic>=1.5.0->optuna) (2.0.1)\n",
            "Building wheels for collected packages: pyperclip\n",
            "  Building wheel for pyperclip (setup.py) ... \u001b[?25l\u001b[?25hdone\n",
            "  Created wheel for pyperclip: filename=pyperclip-1.8.2-py3-none-any.whl size=11136 sha256=9a254d364a46ec5bca2fff40a09b7553f491190fe72827a5375e9eb966da73a7\n",
            "  Stored in directory: /root/.cache/pip/wheels/7f/1a/65/84ff8c386bec21fca6d220ea1f5498a0367883a78dd5ba6122\n",
            "Successfully built pyperclip\n",
            "Installing collected packages: pyperclip, pbr, stevedore, Mako, importlib-metadata, cmd2, autopage, colorlog, cmaes, cliff, alembic, optuna\n",
            "  Attempting uninstall: importlib-metadata\n",
            "    Found existing installation: importlib-metadata 5.1.0\n",
            "    Uninstalling importlib-metadata-5.1.0:\n",
            "      Successfully uninstalled importlib-metadata-5.1.0\n",
            "Successfully installed Mako-1.2.4 alembic-1.9.1 autopage-0.5.1 cliff-4.1.0 cmaes-0.9.0 cmd2-2.4.2 colorlog-6.7.0 importlib-metadata-4.13.0 optuna-3.0.5 pbr-5.11.0 pyperclip-1.8.2 stevedore-4.1.1\n"
          ]
        }
      ],
      "source": [
        "! pip install optuna"
      ]
    },
    {
      "cell_type": "code",
      "execution_count": 4,
      "metadata": {
        "id": "SeZfZdYbIA_b"
      },
      "outputs": [],
      "source": [
        "# ライブラリの導入\n",
        "from functools import partial\n",
        "import matplotlib.pyplot as plt\n",
        "import numpy as np\n",
        "import pandas as pd\n",
        "import scipy as sp\n",
        "import lightgbm as lgb\n",
        "from sklearn.metrics import cohen_kappa_score\n",
        "\n",
        "def adapt_labels(labels):\n",
        "  max_label = np.max(labels) # 2 or 4\n",
        "\n",
        "  if max_label == 2:\n",
        "    labels += 2\n",
        "  elif max_label == 4:\n",
        "    labels -= 2\n",
        "  else:\n",
        "    print('Exception error! please check with np.unique(labels).')\n",
        "  return labels"
      ]
    },
    {
      "cell_type": "code",
      "execution_count": 5,
      "metadata": {
        "colab": {
          "base_uri": "https://localhost:8080/"
        },
        "id": "97rNE6cHLx4u",
        "outputId": "b953c68e-8eed-44e5-e8ff-e46244e2456e"
      },
      "outputs": [
        {
          "name": "stdout",
          "output_type": "stream",
          "text": [
            "Mounted at /content/drive\n",
            "/content/drive/MyDrive/grad_comp\n"
          ]
        }
      ],
      "source": [
        "#ファイル\n",
        "from google.colab import drive\n",
        "drive.mount('/content/drive')\n",
        "%cd /content/drive/MyDrive/grad_comp"
      ]
    },
    {
      "cell_type": "markdown",
      "metadata": {
        "id": "PTig9giHUm0W"
      },
      "source": [
        "neo-small-B"
      ]
    },
    {
      "cell_type": "code",
      "execution_count": 6,
      "metadata": {
        "colab": {
          "base_uri": "https://localhost:8080/"
        },
        "id": "Y36jxAYRLz10",
        "outputId": "116910b2-edc5-4cdf-fdcd-b1dd1ab02015"
      },
      "outputs": [
        {
          "name": "stdout",
          "output_type": "stream",
          "text": [
            "[-2. -1.  0.  1.  2.]\n",
            "[3543 5593 9227 7760 3877]\n"
          ]
        }
      ],
      "source": [
        "# preprocess path\n",
        "prepro = 'sudachi-neo-small/A'\n",
        "\n",
        "# setup data\n",
        "\n",
        "f = open('preprocess/' + prepro + '/text.prep_train.txt', 'r')\n",
        "train_data = f.read()\n",
        "train_data = train_data.split('\\n')\n",
        "del train_data[30000]\n",
        "\n",
        "f = open('preprocess/' + prepro + '/text.prep_test.txt', 'r')\n",
        "test_data = f.read()\n",
        "test_data = test_data.split('\\n')\n",
        "del test_data[2500]\n",
        "\n",
        "f = open('preprocess/' + prepro + '/text.prep_dev.txt', 'r')\n",
        "dev_data = f.read()\n",
        "dev_data = dev_data.split('\\n')\n",
        "del dev_data[2500]\n",
        "\n",
        "# label\n",
        "y_train = np.loadtxt('/content/drive/MyDrive/grad_comp/data/label.train.txt')\n",
        "y_dev = np.loadtxt('/content/drive/MyDrive/grad_comp/data/label.dev.txt')\n",
        "\n",
        "# adapt_labels(y_train)\n",
        "# adapt_labels(y_dev)\n",
        "\n",
        "u, counts = np.unique(y_train, return_counts=True)\n",
        "print(u)\n",
        "print(counts)"
      ]
    },
    {
      "cell_type": "code",
      "execution_count": 7,
      "metadata": {
        "id": "_2LeLPo9MLtG"
      },
      "outputs": [],
      "source": [
        "import numbers\n",
        "\n",
        "import optuna\n",
        "import pandas as pd\n",
        "import numpy as np\n",
        "import lightgbm as lgb\n",
        "from sklearn.model_selection import KFold\n",
        "from sklearn.metrics import cohen_kappa_score\n",
        "\n",
        "# coef = [0.5,1.8,2.3,2.8] # hyperparameter 45.5\n",
        "# coef = [0.56067872,1.85788215,2.23106766,2.67266578]\n",
        "def predict(X): # coef引数にしたほうがいい\n",
        "    X_p = np.copy(X)\n",
        "    for i, pred in enumerate(X_p):\n",
        "        if pred < coef[0]:\n",
        "            X_p[i] = -2\n",
        "        elif pred >= coef[0] and pred < coef[1]:\n",
        "            X_p[i] = -1\n",
        "        elif pred >= coef[1] and pred < coef[2]:\n",
        "            X_p[i] = 0\n",
        "        elif pred >= coef[2] and pred < coef[3]:\n",
        "            X_p[i] = 1\n",
        "        else:\n",
        "            X_p[i] = 2\n",
        "    return X_p\n",
        "\n",
        "def lgb_custom_metric_qwk_regression(preds, data):\n",
        "    \"\"\"LightGBM のカスタムメトリックを計算する関数\n",
        "\n",
        "    回帰問題として解いた予測から QWK を計算する\"\"\"\n",
        "    # 正解ラベル\n",
        "    y_true = data.get_label()\n",
        "    # 予測ラベル-ここを調整\n",
        "    y_pred = predict(preds) # 4要素の閾値\n",
        "    # QWK を計算する\n",
        "    return 'qwk', qwk(y_true, y_pred), True\n",
        "\n",
        "\n",
        "def qwk(y_true, y_pred):\n",
        "    \"\"\"QWK (Quadratic Weighted Kappa) を計算する関数\"\"\"\n",
        "    return cohen_kappa_score(y_true, y_pred, weights='quadratic')"
      ]
    },
    {
      "cell_type": "code",
      "execution_count": 9,
      "metadata": {
        "colab": {
          "base_uri": "https://localhost:8080/"
        },
        "id": "blQWt3lmujky",
        "outputId": "e09cde9b-0e4f-4091-a08d-27e5a7b64561"
      },
      "outputs": [
        {
          "name": "stdout",
          "output_type": "stream",
          "text": [
            "1.95\n",
            "1.98\n",
            "2.01\n",
            "2.04\n"
          ]
        }
      ],
      "source": [
        "import numpy as np\n",
        "\n",
        "data = np.arange(1.95, 2.05, 0.03)\n",
        "data = np.round(data, 2)\n",
        "\n",
        "for i in data:\n",
        "    print(i)"
      ]
    },
    {
      "cell_type": "code",
      "execution_count": 10,
      "metadata": {
        "id": "4VtSwMRVi6cn"
      },
      "outputs": [],
      "source": [
        "file_num = 0"
      ]
    },
    {
      "cell_type": "code",
      "execution_count": 107,
      "metadata": {
        "colab": {
          "base_uri": "https://localhost:8080/",
          "height": 333
        },
        "id": "jRFi_uKQt8pt",
        "outputId": "ccee8fc6-5d3e-48f6-f2bc-7bbf8cabe34d"
      },
      "outputs": [
        {
          "name": "stdout",
          "output_type": "stream",
          "text": [
            "Training until validation scores don't improve for 100 rounds.\n",
            "Early stopping, best iteration is:\n",
            "[1013]\tvalid_0's qwk: 0.485862\n",
            "1.6591037236646808 -1.737270716004355\n"
          ]
        },
        {
          "data": {
            "image/png": "[encoded data removed]",
            "text/plain": [
              "<Figure size 432x288 with 1 Axes>"
            ]
          },
          "metadata": {
            "needs_background": "light"
          },
          "output_type": "display_data"
        }
      ],
      "source": [
        "# 検証\n",
        "from sklearn.feature_extraction.text import TfidfVectorizer\n",
        "vectorizer = TfidfVectorizer(max_features=3100,norm='l1',analyzer='char',smooth_idf=True)\n",
        "X_train = vectorizer.fit_transform(train_data)\n",
        "X_dev = vectorizer.transform(dev_data)\n",
        "X_test = vectorizer.transform(test_data)\n",
        "file_num += 1\n",
        "X_train = X_train.toarray()\n",
        "X_dev = X_dev.toarray()\n",
        "test_list = []\n",
        "# for i in data:\n",
        "# best = [1.4,1.95,2.05,2.75] 48.1\n",
        "# coef = [1.3,1.95,2.05,2.8] 48.3 B\n",
        "# coef = [1.3,1.95,2.05,2.8]\n",
        "# coef = [-0.5,-0.1,0.3,0.55]\n",
        "coef = [-0.5,-0.1,0.25,0.58]\n",
        "lgb_train = lgb.Dataset(X_train, y_train)\n",
        "lgb_eval = lgb.Dataset(X_dev, y_dev, reference=lgb_train) \n",
        "\n",
        "# LightGBM parameters\n",
        "# params = {\n",
        "#       'objective': 'regression',\n",
        "#       'metric': 'lgb_custom_metric_qwk_regression',\n",
        "#       'verbose': -1,\n",
        "#       'first_metric_only':True,\n",
        "#       'learning_rate':0.05, # default:0.1\n",
        "  # }\n",
        "\n",
        "seed = 256\n",
        "\n",
        "params = {\n",
        "    'objective': 'regression',\n",
        "    'metric': 'lgb_custom_metric_qwk_regression',\n",
        "    'verbose': -1,\n",
        "    'boosting_type': 'gbdt',  # default = 'gbdt'\n",
        "    'num_leaves': 63,         # default = 31,\n",
        "    'learning_rate': 0.008,    # default = 0.1\n",
        "    'feature_fraction': 0.8,  # default = 1.0\n",
        "    'bagging_freq': 2,        # default = 0\n",
        "    'bagging_fraction': 0.8,  # default = 1.0\n",
        "    \"lambda_l1\": 1.1,\n",
        "    'random_state': seed,     # default = None\n",
        "}\n",
        "\n",
        "model = lgb.train(params,\n",
        "                train_set=lgb_train,\n",
        "                valid_sets=lgb_eval,\n",
        "                num_boost_round=5000,\n",
        "                early_stopping_rounds=500,\n",
        "                verbose_eval=-1,\n",
        "                feval=lgb_custom_metric_qwk_regression,\n",
        "                )\n",
        "\n",
        "y_preds = model.predict(X_test)\n",
        "print(max(y_preds),min(y_preds))\n",
        "x = np.arange(0, 2500, 1)\n",
        "y = y_preds\n",
        "\n",
        "# optimized = predict(y_pred)\n",
        "\n",
        "import matplotlib.pyplot as plt\n",
        "plt.plot(x,y)\n",
        "plt.show()"
      ]
    },
    {
      "cell_type": "code",
      "execution_count": null,
      "metadata": {},
      "outputs": [],
      "source": [
        "# アンサンブル"
      ]
    },
    {
      "attachments": {},
      "cell_type": "markdown",
      "metadata": {},
      "source": [
        "python ensemble.py best/507_7_50_0.889_depth_l2_add_A3150_eval.txt best/best_3_0.889_l2_add_A3150_eval.txt best/7_50_0.888_depth_l2_add_A3150_eval.txt best/8_33_0.889_depth_l2_add_A3150_eval.txt best/8_35_0.888_depth_l2_add_A3150_eval.txt best/8_38_0.889_depth_l2_add_A3150_eval.txt best/5_9_0.889_depth_l2_add_A3150_eval.txt"
      ]
    },
    {
      "cell_type": "code",
      "execution_count": 108,
      "metadata": {
        "colab": {
          "base_uri": "https://localhost:8080/"
        },
        "id": "Ar_J_3SVFprW",
        "outputId": "0bc1b280-2bb8-4987-ca46-50f6996a3f08"
      },
      "outputs": [
        {
          "data": {
            "text/plain": [
              "33"
            ]
          },
          "execution_count": 108,
          "metadata": {},
          "output_type": "execute_result"
        }
      ],
      "source": [
        "# No. 確認\n",
        "file_num"
      ]
    },
    {
      "cell_type": "code",
      "execution_count": 109,
      "metadata": {
        "colab": {
          "base_uri": "https://localhost:8080/"
        },
        "id": "fNckSmeQoafT",
        "outputId": "0fc41b03-bf20-4318-8f3d-a0db6de85d40"
      },
      "outputs": [
        {
          "name": "stdout",
          "output_type": "stream",
          "text": [
            "[-2. -1.  0.  1.  2.]\n",
            "[268 512 585 488 647]\n"
          ]
        }
      ],
      "source": [
        "# submit\n",
        "\n",
        "y_preds = model.predict(X_test)\n",
        "# coef = [-0.5,-0.1,0.3,0.68]\n",
        "y_preds = predict(y_preds)\n",
        "u, counts = np.unique(y_preds, return_counts=True)\n",
        "print(u)\n",
        "print(counts)\n",
        "with open('src/A3100/' + str(file_num)+ str(seed) +'_add_A3100_eval.txt','w') as f:\n",
        "  for y_pred in y_preds:\n",
        "    y_pred = int(y_pred)\n",
        "    y_pred = str(y_pred)\n",
        "    f.write(y_pred + '\\n')"
      ]
    },
    {
      "cell_type": "code",
      "execution_count": null,
      "metadata": {
        "colab": {
          "base_uri": "https://localhost:8080/",
          "height": 232
        },
        "id": "0qAQWENOvSCb",
        "outputId": "e7139965-4d2e-4b00-b1ec-b879f0b83d8b"
      },
      "outputs": [],
      "source": [
        "# 複数の結果を同時に submit\n",
        "# n = 0\n",
        "# for i in data:\n",
        "#   optimized = test_list[n]\n",
        "#   print(optimized)\n",
        "#   n += 1\n",
        "#   adapt_labels(optimized)\n",
        "#   print(optimized)\n",
        "#   with open('src/result/sec-' + str(i) + 'B3100_lgbp_norm_char_smooth_eval.txt','w') as f:\n",
        "#     for y_pred in optimized:\n",
        "#       y_pred = int(y_pred)\n",
        "#       y_pred = str(y_pred)\n",
        "#       f.write(y_pred + '\\n')"
      ]
    }
  ],
  "metadata": {
    "colab": {
      "machine_shape": "hm",
      "provenance": []
    },
    "gpuClass": "standard",
    "kernelspec": {
      "display_name": "py37",
      "language": "python",
      "name": "python3"
    },
    "language_info": {
      "name": "python",
      "version": "3.8.8 (default, Apr 13 2021, 12:59:45) \n[Clang 10.0.0 ]"
    },
    "vscode": {
      "interpreter": {
        "hash": "0bbcfcc1b2607f9590d16c6d822fed489540cbd3ba0db4dddb602648fbc29ae6"
      }
    }
  },
  "nbformat": 4,
  "nbformat_minor": 0
}
